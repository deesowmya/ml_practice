{
 "cells": [
  {
   "cell_type": "code",
   "execution_count": 30,
   "metadata": {},
   "outputs": [
    {
     "name": "stdout",
     "output_type": "stream",
     "text": [
      "\u001b[1mTelecom Churn ML Group Case Study\u001b[0m\n",
      "1. Business Goal - Retaining high value customers.\n",
      "2. This project is based on the Indian and Southeast Asian market.\n",
      "3. In the Indian and the southeast Asian market, approximately 80% of revenue comes from the top 20% customers (called high-value customers). Thus, if we can reduce churn of the high-value customers, we will be able to reduce significant revenue leakage.\n",
      "4. The business objective is to predict the churn in the last (i.e. the ninth) month using the data (features) from the first three months. To do this task well, understanding the typical customer behaviour during churn will be helpful.\n",
      "5. Prepaid is the most common model in India and Southeast Asia.\n",
      "6. Churn definition used - 'Usage Based Churn':Customers who have not done any usage, either incoming or outgoing - in terms of calls, internet etc. over a period of time.\n",
      "\u001b[1mOutput\u001b[0m\n",
      "1. Pridict which customers are at high risk of churn.\n",
      "2. Build predictive model to identify such high risk customers and identofy the main indicators of churn.\n",
      "3. Focus is on prepaid customers.\n",
      "4. Customers usually do not decide to switch to another competitor instantly, but rather over a period of time (this is especially applicable to high-value customers). In churn prediction, we assume that there are three phases of customer lifecycle :\n",
      "a: The ‘good’ phase, b: The ‘action’ phase, c:The ‘churn’ phase\n"
     ]
    }
   ],
   "source": [
    "\n",
    "class color:\n",
    "   PURPLE = '\\033[95m'\n",
    "   CYAN = '\\033[96m'\n",
    "   DARKCYAN = '\\033[36m'\n",
    "   BLUE = '\\033[94m'\n",
    "   GREEN = '\\033[92m'\n",
    "   YELLOW = '\\033[93m'\n",
    "   RED = '\\033[91m'\n",
    "   BOLD = '\\033[1m'\n",
    "   UNDERLINE = '\\033[4m'\n",
    "   END = '\\033[0m'\n",
    "\n",
    "print (color.BOLD + 'Telecom Churn ML Group Case Study' + color.END)\n",
    "\n",
    "print(\"1. Business Goal - Retaining high value customers.\")\n",
    "print(\"2. This project is based on the Indian and Southeast Asian market.\")\n",
    "print(\"3. In the Indian and the southeast Asian market, approximately 80% of revenue comes from the top 20% customers (called high-value customers). Thus, if we can reduce churn of the high-value customers, we will be able to reduce significant revenue leakage.\")\n",
    "print(\"4. The business objective is to predict the churn in the last (i.e. the ninth) month using the data (features) from the first three months. To do this task well, understanding the typical customer behaviour during churn will be helpful.\")\n",
    "print(\"5. Prepaid is the most common model in India and Southeast Asia.\")\n",
    "\n",
    "print(\"6. Churn definition used - 'Usage Based Churn':Customers who have not done any usage, either incoming or outgoing - in terms of calls, internet etc. over a period of time.\")\n",
    "\n",
    "print (color.BOLD + 'Output' + color.END)\n",
    "print(\"1. Pridict which customers are at high risk of churn.\")\n",
    "print(\"2. Build predictive model to identify such high risk customers and identofy the main indicators of churn.\")\n",
    "print(\"3. Focus is on prepaid customers.\")\n",
    "print(\"4. Customers usually do not decide to switch to another competitor instantly, but rather over a period of time (this is especially applicable to high-value customers). In churn prediction, we assume that there are three phases of customer lifecycle :\")\n",
    "print(\"a: The ‘good’ phase, b: The ‘action’ phase, c:The ‘churn’ phase\")\n",
    "\n",
    "\n",
    "\n"
   ]
  },
  {
   "cell_type": "code",
   "execution_count": 31,
   "metadata": {},
   "outputs": [],
   "source": [
    "import warnings\n",
    "warnings.filterwarnings('ignore')\n",
    "import numpy as np\n",
    "import pandas as pd\n",
    "import sklearn\n",
    "import matplotlib.pyplot as plt\n",
    "import seaborn as sns\n",
    "\n",
    "# line separator\n",
    "def print_ln():\n",
    "    print('_'*80,'\\n')\n",
    "pd.options.display.float_format = '{:.2f}'.format"
   ]
  },
  {
   "cell_type": "code",
   "execution_count": 32,
   "metadata": {},
   "outputs": [
    {
     "name": "stdout",
     "output_type": "stream",
     "text": [
      "Dataframe Shape: (99999, 226)\n",
      "________________________________________________________________________________ \n",
      "\n",
      "Dataframe Info: \n",
      "\n",
      "<class 'pandas.core.frame.DataFrame'>\n",
      "RangeIndex: 99999 entries, 0 to 99998\n",
      "Columns: 226 entries, mobile_number to sep_vbc_3g\n",
      "dtypes: float64(179), int64(35), object(12)\n",
      "memory usage: 172.4+ MB\n"
     ]
    },
    {
     "data": {
      "text/html": [
       "<div>\n",
       "<style scoped>\n",
       "    .dataframe tbody tr th:only-of-type {\n",
       "        vertical-align: middle;\n",
       "    }\n",
       "\n",
       "    .dataframe tbody tr th {\n",
       "        vertical-align: top;\n",
       "    }\n",
       "\n",
       "    .dataframe thead th {\n",
       "        text-align: right;\n",
       "    }\n",
       "</style>\n",
       "<table border=\"1\" class=\"dataframe\">\n",
       "  <thead>\n",
       "    <tr style=\"text-align: right;\">\n",
       "      <th></th>\n",
       "      <th>mobile_number</th>\n",
       "      <th>circle_id</th>\n",
       "      <th>loc_og_t2o_mou</th>\n",
       "      <th>std_og_t2o_mou</th>\n",
       "      <th>loc_ic_t2o_mou</th>\n",
       "      <th>last_date_of_month_6</th>\n",
       "      <th>last_date_of_month_7</th>\n",
       "      <th>last_date_of_month_8</th>\n",
       "      <th>last_date_of_month_9</th>\n",
       "      <th>arpu_6</th>\n",
       "      <th>...</th>\n",
       "      <th>sachet_3g_9</th>\n",
       "      <th>fb_user_6</th>\n",
       "      <th>fb_user_7</th>\n",
       "      <th>fb_user_8</th>\n",
       "      <th>fb_user_9</th>\n",
       "      <th>aon</th>\n",
       "      <th>aug_vbc_3g</th>\n",
       "      <th>jul_vbc_3g</th>\n",
       "      <th>jun_vbc_3g</th>\n",
       "      <th>sep_vbc_3g</th>\n",
       "    </tr>\n",
       "  </thead>\n",
       "  <tbody>\n",
       "    <tr>\n",
       "      <th>0</th>\n",
       "      <td>7000842753</td>\n",
       "      <td>109</td>\n",
       "      <td>0.00</td>\n",
       "      <td>0.00</td>\n",
       "      <td>0.00</td>\n",
       "      <td>6/30/2014</td>\n",
       "      <td>7/31/2014</td>\n",
       "      <td>8/31/2014</td>\n",
       "      <td>9/30/2014</td>\n",
       "      <td>197.38</td>\n",
       "      <td>...</td>\n",
       "      <td>0</td>\n",
       "      <td>1.00</td>\n",
       "      <td>1.00</td>\n",
       "      <td>1.00</td>\n",
       "      <td>nan</td>\n",
       "      <td>968</td>\n",
       "      <td>30.40</td>\n",
       "      <td>0.00</td>\n",
       "      <td>101.20</td>\n",
       "      <td>3.58</td>\n",
       "    </tr>\n",
       "    <tr>\n",
       "      <th>1</th>\n",
       "      <td>7001865778</td>\n",
       "      <td>109</td>\n",
       "      <td>0.00</td>\n",
       "      <td>0.00</td>\n",
       "      <td>0.00</td>\n",
       "      <td>6/30/2014</td>\n",
       "      <td>7/31/2014</td>\n",
       "      <td>8/31/2014</td>\n",
       "      <td>9/30/2014</td>\n",
       "      <td>34.05</td>\n",
       "      <td>...</td>\n",
       "      <td>0</td>\n",
       "      <td>nan</td>\n",
       "      <td>1.00</td>\n",
       "      <td>1.00</td>\n",
       "      <td>nan</td>\n",
       "      <td>1006</td>\n",
       "      <td>0.00</td>\n",
       "      <td>0.00</td>\n",
       "      <td>0.00</td>\n",
       "      <td>0.00</td>\n",
       "    </tr>\n",
       "    <tr>\n",
       "      <th>2</th>\n",
       "      <td>7001625959</td>\n",
       "      <td>109</td>\n",
       "      <td>0.00</td>\n",
       "      <td>0.00</td>\n",
       "      <td>0.00</td>\n",
       "      <td>6/30/2014</td>\n",
       "      <td>7/31/2014</td>\n",
       "      <td>8/31/2014</td>\n",
       "      <td>9/30/2014</td>\n",
       "      <td>167.69</td>\n",
       "      <td>...</td>\n",
       "      <td>0</td>\n",
       "      <td>nan</td>\n",
       "      <td>nan</td>\n",
       "      <td>nan</td>\n",
       "      <td>1.00</td>\n",
       "      <td>1103</td>\n",
       "      <td>0.00</td>\n",
       "      <td>0.00</td>\n",
       "      <td>4.17</td>\n",
       "      <td>0.00</td>\n",
       "    </tr>\n",
       "    <tr>\n",
       "      <th>3</th>\n",
       "      <td>7001204172</td>\n",
       "      <td>109</td>\n",
       "      <td>0.00</td>\n",
       "      <td>0.00</td>\n",
       "      <td>0.00</td>\n",
       "      <td>6/30/2014</td>\n",
       "      <td>7/31/2014</td>\n",
       "      <td>8/31/2014</td>\n",
       "      <td>9/30/2014</td>\n",
       "      <td>221.34</td>\n",
       "      <td>...</td>\n",
       "      <td>0</td>\n",
       "      <td>nan</td>\n",
       "      <td>nan</td>\n",
       "      <td>nan</td>\n",
       "      <td>nan</td>\n",
       "      <td>2491</td>\n",
       "      <td>0.00</td>\n",
       "      <td>0.00</td>\n",
       "      <td>0.00</td>\n",
       "      <td>0.00</td>\n",
       "    </tr>\n",
       "    <tr>\n",
       "      <th>4</th>\n",
       "      <td>7000142493</td>\n",
       "      <td>109</td>\n",
       "      <td>0.00</td>\n",
       "      <td>0.00</td>\n",
       "      <td>0.00</td>\n",
       "      <td>6/30/2014</td>\n",
       "      <td>7/31/2014</td>\n",
       "      <td>8/31/2014</td>\n",
       "      <td>9/30/2014</td>\n",
       "      <td>261.64</td>\n",
       "      <td>...</td>\n",
       "      <td>0</td>\n",
       "      <td>0.00</td>\n",
       "      <td>nan</td>\n",
       "      <td>nan</td>\n",
       "      <td>nan</td>\n",
       "      <td>1526</td>\n",
       "      <td>0.00</td>\n",
       "      <td>0.00</td>\n",
       "      <td>0.00</td>\n",
       "      <td>0.00</td>\n",
       "    </tr>\n",
       "  </tbody>\n",
       "</table>\n",
       "<p>5 rows × 226 columns</p>\n",
       "</div>"
      ],
      "text/plain": [
       "   mobile_number  circle_id  loc_og_t2o_mou  std_og_t2o_mou  loc_ic_t2o_mou  \\\n",
       "0     7000842753        109            0.00            0.00            0.00   \n",
       "1     7001865778        109            0.00            0.00            0.00   \n",
       "2     7001625959        109            0.00            0.00            0.00   \n",
       "3     7001204172        109            0.00            0.00            0.00   \n",
       "4     7000142493        109            0.00            0.00            0.00   \n",
       "\n",
       "  last_date_of_month_6 last_date_of_month_7 last_date_of_month_8  \\\n",
       "0            6/30/2014            7/31/2014            8/31/2014   \n",
       "1            6/30/2014            7/31/2014            8/31/2014   \n",
       "2            6/30/2014            7/31/2014            8/31/2014   \n",
       "3            6/30/2014            7/31/2014            8/31/2014   \n",
       "4            6/30/2014            7/31/2014            8/31/2014   \n",
       "\n",
       "  last_date_of_month_9  arpu_6     ...      sachet_3g_9  fb_user_6  fb_user_7  \\\n",
       "0            9/30/2014  197.38     ...                0       1.00       1.00   \n",
       "1            9/30/2014   34.05     ...                0        nan       1.00   \n",
       "2            9/30/2014  167.69     ...                0        nan        nan   \n",
       "3            9/30/2014  221.34     ...                0        nan        nan   \n",
       "4            9/30/2014  261.64     ...                0       0.00        nan   \n",
       "\n",
       "   fb_user_8  fb_user_9   aon  aug_vbc_3g  jul_vbc_3g  jun_vbc_3g  sep_vbc_3g  \n",
       "0       1.00        nan   968       30.40        0.00      101.20        3.58  \n",
       "1       1.00        nan  1006        0.00        0.00        0.00        0.00  \n",
       "2        nan       1.00  1103        0.00        0.00        4.17        0.00  \n",
       "3        nan        nan  2491        0.00        0.00        0.00        0.00  \n",
       "4        nan        nan  1526        0.00        0.00        0.00        0.00  \n",
       "\n",
       "[5 rows x 226 columns]"
      ]
     },
     "execution_count": 32,
     "metadata": {},
     "output_type": "execute_result"
    }
   ],
   "source": [
    "# loading data file\n",
    "tele_org = pd.read_csv(\"telecom_churn_data.csv\")\n",
    "tele=tele_org.copy()\n",
    "print('Dataframe Shape:', tele.shape);print_ln();\n",
    "print('Dataframe Info: \\n'); tele.info();print_ln;\n",
    "tele.head(5)"
   ]
  },
  {
   "cell_type": "code",
   "execution_count": 33,
   "metadata": {},
   "outputs": [
    {
     "data": {
      "text/plain": [
       "mobile_number           0.00\n",
       "circle_id               0.00\n",
       "loc_og_t2o_mou          1.02\n",
       "std_og_t2o_mou          1.02\n",
       "loc_ic_t2o_mou          1.02\n",
       "last_date_of_month_6    0.00\n",
       "last_date_of_month_7    0.60\n",
       "last_date_of_month_8    1.10\n",
       "last_date_of_month_9    1.66\n",
       "arpu_6                  0.00\n",
       "arpu_7                  0.00\n",
       "arpu_8                  0.00\n",
       "arpu_9                  0.00\n",
       "onnet_mou_6             3.94\n",
       "onnet_mou_7             3.86\n",
       "onnet_mou_8             5.38\n",
       "onnet_mou_9             7.75\n",
       "offnet_mou_6            3.94\n",
       "offnet_mou_7            3.86\n",
       "offnet_mou_8            5.38\n",
       "offnet_mou_9            7.75\n",
       "roam_ic_mou_6           3.94\n",
       "roam_ic_mou_7           3.86\n",
       "roam_ic_mou_8           5.38\n",
       "roam_ic_mou_9           7.75\n",
       "roam_og_mou_6           3.94\n",
       "roam_og_mou_7           3.86\n",
       "roam_og_mou_8           5.38\n",
       "roam_og_mou_9           7.75\n",
       "loc_og_t2t_mou_6        3.94\n",
       "                        ... \n",
       "arpu_2g_9              74.08\n",
       "night_pck_user_6       74.85\n",
       "night_pck_user_7       74.43\n",
       "night_pck_user_8       73.66\n",
       "night_pck_user_9       74.08\n",
       "monthly_2g_6            0.00\n",
       "monthly_2g_7            0.00\n",
       "monthly_2g_8            0.00\n",
       "monthly_2g_9            0.00\n",
       "sachet_2g_6             0.00\n",
       "sachet_2g_7             0.00\n",
       "sachet_2g_8             0.00\n",
       "sachet_2g_9             0.00\n",
       "monthly_3g_6            0.00\n",
       "monthly_3g_7            0.00\n",
       "monthly_3g_8            0.00\n",
       "monthly_3g_9            0.00\n",
       "sachet_3g_6             0.00\n",
       "sachet_3g_7             0.00\n",
       "sachet_3g_8             0.00\n",
       "sachet_3g_9             0.00\n",
       "fb_user_6              74.85\n",
       "fb_user_7              74.43\n",
       "fb_user_8              73.66\n",
       "fb_user_9              74.08\n",
       "aon                     0.00\n",
       "aug_vbc_3g              0.00\n",
       "jul_vbc_3g              0.00\n",
       "jun_vbc_3g              0.00\n",
       "sep_vbc_3g              0.00\n",
       "Length: 226, dtype: float64"
      ]
     },
     "execution_count": 33,
     "metadata": {},
     "output_type": "execute_result"
    }
   ],
   "source": [
    "round(100*(tele.isnull().sum()/len(tele.index)), 2)"
   ]
  },
  {
   "cell_type": "code",
   "execution_count": 34,
   "metadata": {},
   "outputs": [
    {
     "name": "stdout",
     "output_type": "stream",
     "text": [
      "\u001b[1mTreating Categorical Variables\u001b[0m\n",
      "There are 8 categorical variables with more than 70% missing values. Missing values can be imputed with '-1' where '-1' can be traeted as new category.\n",
      "1. night_pck_user_6\n",
      "2. night_pck_user_7\n",
      "3. night_pck_user_8\n",
      "4. night_pck_user_9\n",
      "5. fb_user_6\n",
      "6. fb_user_7\n",
      "7. fb_user_8\n",
      "8. fb_user_9\n"
     ]
    }
   ],
   "source": [
    "print (color.BOLD + 'Treating Categorical Variables' + color.END)\n",
    "print(\"There are 8 categorical variables with more than 70% missing values. Missing values can be imputed with '-1' where '-1' can be traeted as new category.\")\n",
    "print(\"1. night_pck_user_6\")\n",
    "print(\"2. night_pck_user_7\")\n",
    "print(\"3. night_pck_user_8\")\n",
    "print(\"4. night_pck_user_9\")\n",
    "print(\"5. fb_user_6\")\n",
    "print(\"6. fb_user_7\")\n",
    "print(\"7. fb_user_8\")\n",
    "print(\"8. fb_user_9\")\n",
    "\n",
    "# impputing the missing value with '-1'\n",
    "\n",
    "cate_v=[\"night_pck_user_6\",\"night_pck_user_7\",\"night_pck_user_8\",\"night_pck_user_9\",\"fb_user_6\",\"fb_user_7\",\"fb_user_8\",\"fb_user_9\"]\n",
    "for var in cate_v:\n",
    "    tele[var].fillna(value=-1,inplace=True)"
   ]
  },
  {
   "cell_type": "code",
   "execution_count": 35,
   "metadata": {},
   "outputs": [],
   "source": [
    "# Createing dummy variable for all above categories except the night_pck_user_9 and fb_user_9\n",
    "\n",
    "night_pck_user_6d = pd.get_dummies(tele['night_pck_user_6'],prefix=\"night6\", drop_first = True)\n",
    "night_pck_user_7d = pd.get_dummies(tele['night_pck_user_7'],prefix=\"night7\", drop_first = True)\n",
    "night_pck_user_8d = pd.get_dummies(tele['night_pck_user_8'],prefix=\"night8\", drop_first = True)\n",
    "fb_user_6d = pd.get_dummies(tele['fb_user_6'],prefix=\"fb6\", drop_first = True)\n",
    "fb_user_7d = pd.get_dummies(tele['fb_user_7'],prefix=\"fb7\", drop_first = True)\n",
    "fb_user_8d = pd.get_dummies(tele['fb_user_8'],prefix=\"fb8\", drop_first = True)\n",
    "\n",
    "tele=pd.concat([tele,night_pck_user_6d],axis=1)\n",
    "tele=pd.concat([tele,night_pck_user_7d],axis=1)\n",
    "tele=pd.concat([tele,night_pck_user_8d],axis=1)\n",
    "tele=pd.concat([tele,fb_user_6d],axis=1)\n",
    "tele=pd.concat([tele,fb_user_7d],axis=1)\n",
    "tele=pd.concat([tele,fb_user_8d],axis=1)\n",
    "\n",
    "# dropping the categorical columns\n",
    "tele=tele.drop(['night_pck_user_6','night_pck_user_7','night_pck_user_8','fb_user_6','fb_user_7','fb_user_8'],1)"
   ]
  },
  {
   "cell_type": "code",
   "execution_count": 36,
   "metadata": {},
   "outputs": [
    {
     "data": {
      "text/plain": [
       "date_of_last_rech_data_6   74.85\n",
       "date_of_last_rech_data_7   74.43\n",
       "date_of_last_rech_data_8   73.66\n",
       "date_of_last_rech_data_9   74.08\n",
       "total_rech_data_6          74.85\n",
       "total_rech_data_7          74.43\n",
       "total_rech_data_8          73.66\n",
       "total_rech_data_9          74.08\n",
       "max_rech_data_6            74.85\n",
       "max_rech_data_7            74.43\n",
       "max_rech_data_8            73.66\n",
       "max_rech_data_9            74.08\n",
       "count_rech_2g_6            74.85\n",
       "count_rech_2g_7            74.43\n",
       "count_rech_2g_8            73.66\n",
       "count_rech_2g_9            74.08\n",
       "count_rech_3g_6            74.85\n",
       "count_rech_3g_7            74.43\n",
       "count_rech_3g_8            73.66\n",
       "count_rech_3g_9            74.08\n",
       "av_rech_amt_data_6         74.85\n",
       "av_rech_amt_data_7         74.43\n",
       "av_rech_amt_data_8         73.66\n",
       "av_rech_amt_data_9         74.08\n",
       "arpu_3g_6                  74.85\n",
       "arpu_3g_7                  74.43\n",
       "arpu_3g_8                  73.66\n",
       "arpu_3g_9                  74.08\n",
       "arpu_2g_6                  74.85\n",
       "arpu_2g_7                  74.43\n",
       "arpu_2g_8                  73.66\n",
       "arpu_2g_9                  74.08\n",
       "dtype: float64"
      ]
     },
     "execution_count": 36,
     "metadata": {},
     "output_type": "execute_result"
    }
   ],
   "source": [
    "# columns with missing data >=70%\n",
    "miss_data_col=round(100*(tele.isnull().sum()/len(tele.index)), 2)\n",
    "miss_data_col[miss_data_col>+70]"
   ]
  },
  {
   "cell_type": "code",
   "execution_count": 37,
   "metadata": {},
   "outputs": [
    {
     "name": "stdout",
     "output_type": "stream",
     "text": [
      "count   25153.00\n",
      "mean        2.46\n",
      "std         2.79\n",
      "min         1.00\n",
      "25%         1.00\n",
      "50%         1.00\n",
      "75%         3.00\n",
      "max        61.00\n",
      "Name: total_rech_data_6, dtype: float64\n",
      "________________________________________________________________________________ \n",
      "\n",
      "count   25571.00\n",
      "mean        2.67\n",
      "std         3.03\n",
      "min         1.00\n",
      "25%         1.00\n",
      "50%         1.00\n",
      "75%         3.00\n",
      "max        54.00\n",
      "Name: total_rech_data_7, dtype: float64\n",
      "________________________________________________________________________________ \n",
      "\n",
      "count   25153.00\n",
      "mean      192.60\n",
      "std       192.65\n",
      "min         1.00\n",
      "25%        82.00\n",
      "50%       154.00\n",
      "75%       252.00\n",
      "max      7546.00\n",
      "Name: av_rech_amt_data_6, dtype: float64\n",
      "________________________________________________________________________________ \n",
      "\n",
      "count   25571.00\n",
      "mean      200.98\n",
      "std       196.79\n",
      "min         0.50\n",
      "25%        92.00\n",
      "50%       154.00\n",
      "75%       252.00\n",
      "max      4365.00\n",
      "Name: av_rech_amt_data_7, dtype: float64\n",
      "________________________________________________________________________________ \n",
      "\n"
     ]
    }
   ],
   "source": [
    "# Columns more than 70% missing value and are used for filtering High Value customers cant be dropped\n",
    "# total_rech_data_6          74.85\n",
    "# total_rech_data_7          74.43\n",
    "# av_rech_amt_data_6         74.85\n",
    "# av_rech_amt_data_7         74.\n",
    "\n",
    "print(tele.total_rech_data_6.describe());print_ln();\n",
    "print(tele.total_rech_data_7.describe());print_ln();\n",
    "print(tele.av_rech_amt_data_6.describe());print_ln();\n",
    "print(tele.av_rech_amt_data_7.describe());print_ln();\n"
   ]
  },
  {
   "cell_type": "code",
   "execution_count": 38,
   "metadata": {},
   "outputs": [
    {
     "data": {
      "text/plain": [
       "(array([1.4539e+04, 8.0550e+03, 1.8810e+03, 4.6500e+02, 3.0400e+02,\n",
       "        1.4100e+02, 4.4000e+01, 4.4000e+01, 3.8000e+01, 1.3000e+01,\n",
       "        1.3000e+01, 1.0000e+01, 7.0000e+00, 6.0000e+00, 4.0000e+00,\n",
       "        1.0000e+00, 0.0000e+00, 2.0000e+00, 2.0000e+00, 0.0000e+00,\n",
       "        0.0000e+00, 1.0000e+00, 0.0000e+00, 0.0000e+00, 1.0000e+00]),\n",
       " array([5.00000e-01, 1.75080e+02, 3.49660e+02, 5.24240e+02, 6.98820e+02,\n",
       "        8.73400e+02, 1.04798e+03, 1.22256e+03, 1.39714e+03, 1.57172e+03,\n",
       "        1.74630e+03, 1.92088e+03, 2.09546e+03, 2.27004e+03, 2.44462e+03,\n",
       "        2.61920e+03, 2.79378e+03, 2.96836e+03, 3.14294e+03, 3.31752e+03,\n",
       "        3.49210e+03, 3.66668e+03, 3.84126e+03, 4.01584e+03, 4.19042e+03,\n",
       "        4.36500e+03]),\n",
       " <a list of 25 Patch objects>)"
      ]
     },
     "execution_count": 38,
     "metadata": {},
     "output_type": "execute_result"
    },
    {
     "data": {
      "text/plain": [
       "<Figure size 432x288 with 0 Axes>"
      ]
     },
     "metadata": {},
     "output_type": "display_data"
    },
    {
     "data": {
      "image/png": "[encoded data removed]",
      "text/plain": [
       "<Figure size 720x720 with 4 Axes>"
      ]
     },
     "metadata": {
      "needs_background": "light"
     },
     "output_type": "display_data"
    }
   ],
   "source": [
    "# looking at the date distirbution through plots\n",
    "plt.figure(1)\n",
    "fig, ax = plt.subplots(figsize=(10,10))\n",
    "plt.subplot(2,2,1)\n",
    "plt.title(\"total_rech_data_6\")\n",
    "plt.hist(tele.total_rech_data_6.dropna(),bins=25)\n",
    "\n",
    "plt.subplot(2,2,2)\n",
    "plt.title(\"total_rech_data_7\")\n",
    "plt.hist(tele.total_rech_data_7.dropna(),bins=25)\n",
    "\n",
    "plt.subplot(2,2,3)\n",
    "plt.title(\"av_rech_amt_data_6\")\n",
    "plt.hist(tele.av_rech_amt_data_6.dropna(),bins=25)\n",
    "\n",
    "plt.subplot(2,2,4)\n",
    "plt.title(\"av_rech_amt_data_7\")\n",
    "plt.hist(tele.av_rech_amt_data_7.dropna(),bins=25)\n",
    "\n",
    "\n"
   ]
  },
  {
   "cell_type": "code",
   "execution_count": 39,
   "metadata": {},
   "outputs": [
    {
     "name": "stdout",
     "output_type": "stream",
     "text": [
      "mobile_number          0.00\n",
      "circle_id              0.00\n",
      "loc_og_t2o_mou         0.00\n",
      "std_og_t2o_mou         0.00\n",
      "loc_ic_t2o_mou         0.00\n",
      "last_date_of_month_6   0.00\n",
      "last_date_of_month_7   0.00\n",
      "last_date_of_month_8   0.00\n",
      "last_date_of_month_9   0.00\n",
      "arpu_6                 0.00\n",
      "arpu_7                 0.00\n",
      "arpu_8                 0.00\n",
      "arpu_9                 0.00\n",
      "onnet_mou_6            0.00\n",
      "onnet_mou_7            0.00\n",
      "onnet_mou_8            0.00\n",
      "onnet_mou_9            0.00\n",
      "offnet_mou_6           0.00\n",
      "offnet_mou_7           0.00\n",
      "offnet_mou_8           0.00\n",
      "offnet_mou_9           0.00\n",
      "roam_ic_mou_6          0.00\n",
      "roam_ic_mou_7          0.00\n",
      "roam_ic_mou_8          0.00\n",
      "roam_ic_mou_9          0.00\n",
      "roam_og_mou_6          0.00\n",
      "roam_og_mou_7          0.00\n",
      "roam_og_mou_8          0.00\n",
      "roam_og_mou_9          0.00\n",
      "loc_og_t2t_mou_6       0.00\n",
      "                       ... \n",
      "sachet_2g_6            0.00\n",
      "sachet_2g_7            0.00\n",
      "sachet_2g_8            0.00\n",
      "sachet_2g_9            0.00\n",
      "monthly_3g_6           0.00\n",
      "monthly_3g_7           0.00\n",
      "monthly_3g_8           0.00\n",
      "monthly_3g_9           0.00\n",
      "sachet_3g_6            0.00\n",
      "sachet_3g_7            0.00\n",
      "sachet_3g_8            0.00\n",
      "sachet_3g_9            0.00\n",
      "fb_user_9              0.00\n",
      "aon                    0.00\n",
      "aug_vbc_3g             0.00\n",
      "jul_vbc_3g             0.00\n",
      "jun_vbc_3g             0.00\n",
      "sep_vbc_3g             0.00\n",
      "night6_0.0             0.00\n",
      "night6_1.0             0.00\n",
      "night7_0.0             0.00\n",
      "night7_1.0             0.00\n",
      "night8_0.0             0.00\n",
      "night8_1.0             0.00\n",
      "fb6_0.0                0.00\n",
      "fb6_1.0                0.00\n",
      "fb7_0.0                0.00\n",
      "fb7_1.0                0.00\n",
      "fb8_0.0                0.00\n",
      "fb8_1.0                0.00\n",
      "Length: 232, dtype: float64\n"
     ]
    }
   ],
   "source": [
    "# the minimum value is 1 and not zero, and the distribution resmble power law\n",
    "# the rows with missing values also have \"dates of recharge\" columns\n",
    "# missing - indicates that no recharge was done in the specific month\n",
    "# thus missing values can be imputed with '0'\n",
    "\n",
    "#tele.total_rech_data_6.fillna(value=0,inplace=True)\n",
    "#tele.total_rech_data_7.fillna(value=0,inplace=True)\n",
    "#tele.total_rech_data_8.fillna(value=0,inplace=True)\n",
    "#tele.total_rech_data_9.fillna(value=0,inplace=True)\n",
    "\n",
    "#tele.av_rech_amt_data_6.fillna(value=0,inplace=True)\n",
    "#tele.av_rech_amt_data_7.fillna(value=0,inplace=True)\n",
    "#tele.av_rech_amt_data_8.fillna(value=0,inplace=True)\n",
    "#tele.av_rech_amt_data_9.fillna(value=0,inplace=True)\n",
    "collist = tele.columns[tele.isnull().any()].tolist() \n",
    "tele = tele.apply(lambda x: x.fillna(0) if x.name in collist else x.fillna(0))\n",
    "print(round(100*(tele.isnull().sum()/len(tele.index)), 2))"
   ]
  },
  {
   "cell_type": "code",
   "execution_count": 40,
   "metadata": {},
   "outputs": [
    {
     "data": {
      "text/plain": [
       "Series([], dtype: float64)"
      ]
     },
     "execution_count": 40,
     "metadata": {},
     "output_type": "execute_result"
    }
   ],
   "source": [
    "# columns with missing data >=70%\n",
    "miss_data_col1=round(100*(tele.isnull().sum()/len(tele.index)), 2)\n",
    "miss_data_col1[miss_data_col1>=70]"
   ]
  },
  {
   "cell_type": "code",
   "execution_count": 41,
   "metadata": {},
   "outputs": [
    {
     "name": "stdout",
     "output_type": "stream",
     "text": [
      "Dataframe Shape: (99999, 232)\n",
      "<class 'pandas.core.frame.DataFrame'>\n",
      "RangeIndex: 99999 entries, 0 to 99998\n",
      "Columns: 232 entries, mobile_number to fb8_1.0\n",
      "dtypes: float64(173), int64(35), object(12), uint8(12)\n",
      "memory usage: 169.0+ MB\n"
     ]
    }
   ],
   "source": [
    "drop_miss_data_col1=miss_data_col1[miss_data_col1>70].index\n",
    "tele.drop(drop_miss_data_col1,axis=1,inplace=True)\n",
    "print('Dataframe Shape:', tele.shape)\n",
    "tele.info()\n",
    "\n",
    "# Dropping incoming calls as they do not add to the revenue\n",
    "tele.drop(axis=1, inplace=True, labels=tele.filter(regex='loc_ic_').columns)\n",
    "tele.drop(axis=1, inplace=True, labels=tele.filter(regex='std_ic_').columns)\n",
    "tele.drop(axis=1, inplace=True, labels=tele.filter(regex='isd_ic_').columns)\n",
    "tele.drop(axis=1, inplace=True, labels=tele.filter(regex='spl_ic_').columns)\n",
    "tele.drop(axis=1, inplace=True, labels=tele.filter(regex='ic_other').columns)\n",
    "\n",
    "\n"
   ]
  },
  {
   "cell_type": "code",
   "execution_count": 42,
   "metadata": {},
   "outputs": [
    {
     "name": "stdout",
     "output_type": "stream",
     "text": [
      "\u001b[1mFiltering High Value Customers\u001b[0m\n"
     ]
    },
    {
     "data": {
      "text/plain": [
       "count   99999.00\n",
       "mean      485.33\n",
       "std       869.42\n",
       "min         0.00\n",
       "25%       128.00\n",
       "50%       275.00\n",
       "70%       478.00\n",
       "80%       656.50\n",
       "95%      1512.00\n",
       "99%      3363.51\n",
       "max     61236.00\n",
       "Name: average_rechamt_67, dtype: float64"
      ]
     },
     "execution_count": 42,
     "metadata": {},
     "output_type": "execute_result"
    }
   ],
   "source": [
    "print (color.BOLD + 'Filtering High Value Customers' + color.END)\n",
    "\n",
    "# adding derived column \"total recharge amount\"\n",
    "tele[\"total_rech_data_amt_6\"]=tele[\"total_rech_data_6\"]*tele[\"av_rech_amt_data_6\"]\n",
    "tele[\"total_rech_data_amt_7\"]=tele[\"total_rech_data_7\"]*tele[\"av_rech_amt_data_7\"]\n",
    "tele[\"total_rech_data_amt_8\"]=tele[\"total_rech_data_8\"]*tele[\"av_rech_amt_data_8\"]\n",
    "tele[\"total_rech_data_amt_9\"]=tele[\"total_rech_data_9\"]*tele[\"av_rech_amt_data_9\"]\n",
    "\n",
    "# dropping the original columns\n",
    "drop_d_col=[\"total_rech_data_6\",\"total_rech_data_7\",\"total_rech_data_8\",\"total_rech_data_9\",\"av_rech_amt_data_6\",\"av_rech_amt_data_7\",\"av_rech_amt_data_8\",\"av_rech_amt_data_9\"]\n",
    "tele.drop(drop_d_col,axis=1,inplace=True)\n",
    "\n",
    "tele['average_rechamt_67']=(tele[\"total_rech_amt_6\"]+tele[\"total_rech_data_amt_6\"]+tele[\"total_rech_amt_7\"]+tele[\"total_rech_data_amt_7\"])/2.0\n",
    "\n",
    "tele['average_rechamt_67'].describe(percentiles=[.25,.5,.70,.80,.95,.99])\n",
    "\n",
    "\n"
   ]
  },
  {
   "cell_type": "code",
   "execution_count": 43,
   "metadata": {},
   "outputs": [
    {
     "name": "stdout",
     "output_type": "stream",
     "text": [
      "<class 'pandas.core.frame.DataFrame'>\n",
      "Int64Index: 29953 entries, 0 to 99997\n",
      "Columns: 180 entries, mobile_number to average_rechamt_67\n",
      "dtypes: float64(121), int64(35), object(12), uint8(12)\n",
      "memory usage: 39.0+ MB\n"
     ]
    }
   ],
   "source": [
    "tele=tele[tele['average_rechamt_67'] > 478 ]\n",
    "tele.info()"
   ]
  },
  {
   "cell_type": "code",
   "execution_count": 44,
   "metadata": {},
   "outputs": [
    {
     "name": "stdout",
     "output_type": "stream",
     "text": [
      "\u001b[1mIdentying Churn\u001b[0m\n",
      "Dataframe Shape:  (29953, 139)\n"
     ]
    }
   ],
   "source": [
    "print (color.BOLD + 'Identying Churn' + color.END)\n",
    "Y=tele[\"total_ic_mou_9\"]+tele[\"total_og_mou_9\"]+tele[\"vol_2g_mb_9\"]+tele[\"vol_3g_mb_9\"]\n",
    "\n",
    "tele[\"churn\"]=np.where(Y,0,1)\n",
    "\n",
    "# dropping all 4th month columns\n",
    "drop_4_col = [hdr for hdr in list(tele) if hdr.endswith(\"_9\")]\n",
    "drop_4_col +=[\"sep_vbc_3g\"]\n",
    "tele.drop(drop_4_col, axis=1,inplace=True)\n",
    "print('Dataframe Shape: ', tele.shape)"
   ]
  },
  {
   "cell_type": "code",
   "execution_count": 45,
   "metadata": {},
   "outputs": [
    {
     "name": "stdout",
     "output_type": "stream",
     "text": [
      "\u001b[1mIdentying columns with no variance\u001b[0m\n",
      "Dataframe unique value count is zero (all null values): \n",
      " Series([], dtype: int64)\n",
      "________________________________________________________________________________ \n",
      "\n",
      "Dataframe unique value count is one (all same values): \n",
      " std_og_t2c_mou_7        1\n",
      "std_og_t2c_mou_6        1\n",
      "last_date_of_month_6    1\n",
      "std_og_t2o_mou          1\n",
      "loc_og_t2o_mou          1\n",
      "circle_id               1\n",
      "std_og_t2c_mou_8        1\n",
      "dtype: int64\n",
      "________________________________________________________________________________ \n",
      "\n",
      "Dataframe Shape:  (29953, 132)\n",
      "________________________________________________________________________________ \n",
      "\n",
      "No of columns dropped:  7\n",
      "________________________________________________________________________________ \n",
      "\n",
      "Dataframe Shape:  (29953, 132)\n",
      "________________________________________________________________________________ \n",
      "\n"
     ]
    },
    {
     "data": {
      "text/html": [
       "<div>\n",
       "<style scoped>\n",
       "    .dataframe tbody tr th:only-of-type {\n",
       "        vertical-align: middle;\n",
       "    }\n",
       "\n",
       "    .dataframe tbody tr th {\n",
       "        vertical-align: top;\n",
       "    }\n",
       "\n",
       "    .dataframe thead th {\n",
       "        text-align: right;\n",
       "    }\n",
       "</style>\n",
       "<table border=\"1\" class=\"dataframe\">\n",
       "  <thead>\n",
       "    <tr style=\"text-align: right;\">\n",
       "      <th></th>\n",
       "      <th>mobile_number</th>\n",
       "      <th>last_date_of_month_7</th>\n",
       "      <th>last_date_of_month_8</th>\n",
       "      <th>arpu_6</th>\n",
       "      <th>arpu_7</th>\n",
       "      <th>arpu_8</th>\n",
       "      <th>onnet_mou_6</th>\n",
       "      <th>onnet_mou_7</th>\n",
       "      <th>onnet_mou_8</th>\n",
       "      <th>offnet_mou_6</th>\n",
       "      <th>...</th>\n",
       "      <th>fb6_1.0</th>\n",
       "      <th>fb7_0.0</th>\n",
       "      <th>fb7_1.0</th>\n",
       "      <th>fb8_0.0</th>\n",
       "      <th>fb8_1.0</th>\n",
       "      <th>total_rech_data_amt_6</th>\n",
       "      <th>total_rech_data_amt_7</th>\n",
       "      <th>total_rech_data_amt_8</th>\n",
       "      <th>average_rechamt_67</th>\n",
       "      <th>churn</th>\n",
       "    </tr>\n",
       "  </thead>\n",
       "  <tbody>\n",
       "    <tr>\n",
       "      <th>0</th>\n",
       "      <td>7000842753</td>\n",
       "      <td>7/31/2014</td>\n",
       "      <td>8/31/2014</td>\n",
       "      <td>197.38</td>\n",
       "      <td>214.82</td>\n",
       "      <td>213.80</td>\n",
       "      <td>0.00</td>\n",
       "      <td>0.00</td>\n",
       "      <td>0.00</td>\n",
       "      <td>0.00</td>\n",
       "      <td>...</td>\n",
       "      <td>1</td>\n",
       "      <td>0</td>\n",
       "      <td>1</td>\n",
       "      <td>0</td>\n",
       "      <td>1</td>\n",
       "      <td>252.00</td>\n",
       "      <td>252.00</td>\n",
       "      <td>252.00</td>\n",
       "      <td>559.00</td>\n",
       "      <td>1</td>\n",
       "    </tr>\n",
       "    <tr>\n",
       "      <th>7</th>\n",
       "      <td>7000701601</td>\n",
       "      <td>7/31/2014</td>\n",
       "      <td>8/31/2014</td>\n",
       "      <td>1069.18</td>\n",
       "      <td>1349.85</td>\n",
       "      <td>3171.48</td>\n",
       "      <td>57.84</td>\n",
       "      <td>54.68</td>\n",
       "      <td>52.29</td>\n",
       "      <td>453.43</td>\n",
       "      <td>...</td>\n",
       "      <td>0</td>\n",
       "      <td>0</td>\n",
       "      <td>0</td>\n",
       "      <td>0</td>\n",
       "      <td>0</td>\n",
       "      <td>0.00</td>\n",
       "      <td>0.00</td>\n",
       "      <td>0.00</td>\n",
       "      <td>1185.00</td>\n",
       "      <td>1</td>\n",
       "    </tr>\n",
       "    <tr>\n",
       "      <th>8</th>\n",
       "      <td>7001524846</td>\n",
       "      <td>7/31/2014</td>\n",
       "      <td>8/31/2014</td>\n",
       "      <td>378.72</td>\n",
       "      <td>492.22</td>\n",
       "      <td>137.36</td>\n",
       "      <td>413.69</td>\n",
       "      <td>351.03</td>\n",
       "      <td>35.08</td>\n",
       "      <td>94.66</td>\n",
       "      <td>...</td>\n",
       "      <td>0</td>\n",
       "      <td>0</td>\n",
       "      <td>1</td>\n",
       "      <td>0</td>\n",
       "      <td>1</td>\n",
       "      <td>0.00</td>\n",
       "      <td>354.00</td>\n",
       "      <td>207.00</td>\n",
       "      <td>696.00</td>\n",
       "      <td>0</td>\n",
       "    </tr>\n",
       "    <tr>\n",
       "      <th>21</th>\n",
       "      <td>7002124215</td>\n",
       "      <td>7/31/2014</td>\n",
       "      <td>8/31/2014</td>\n",
       "      <td>514.45</td>\n",
       "      <td>597.75</td>\n",
       "      <td>637.76</td>\n",
       "      <td>102.41</td>\n",
       "      <td>132.11</td>\n",
       "      <td>85.14</td>\n",
       "      <td>757.93</td>\n",
       "      <td>...</td>\n",
       "      <td>0</td>\n",
       "      <td>0</td>\n",
       "      <td>0</td>\n",
       "      <td>0</td>\n",
       "      <td>0</td>\n",
       "      <td>0.00</td>\n",
       "      <td>0.00</td>\n",
       "      <td>0.00</td>\n",
       "      <td>640.00</td>\n",
       "      <td>0</td>\n",
       "    </tr>\n",
       "    <tr>\n",
       "      <th>23</th>\n",
       "      <td>7000887461</td>\n",
       "      <td>7/31/2014</td>\n",
       "      <td>8/31/2014</td>\n",
       "      <td>74.35</td>\n",
       "      <td>193.90</td>\n",
       "      <td>366.97</td>\n",
       "      <td>48.96</td>\n",
       "      <td>50.66</td>\n",
       "      <td>33.58</td>\n",
       "      <td>85.41</td>\n",
       "      <td>...</td>\n",
       "      <td>0</td>\n",
       "      <td>0</td>\n",
       "      <td>1</td>\n",
       "      <td>0</td>\n",
       "      <td>1</td>\n",
       "      <td>0.00</td>\n",
       "      <td>712.00</td>\n",
       "      <td>540.00</td>\n",
       "      <td>583.00</td>\n",
       "      <td>0</td>\n",
       "    </tr>\n",
       "  </tbody>\n",
       "</table>\n",
       "<p>5 rows × 132 columns</p>\n",
       "</div>"
      ],
      "text/plain": [
       "    mobile_number last_date_of_month_7 last_date_of_month_8  arpu_6  arpu_7  \\\n",
       "0      7000842753            7/31/2014            8/31/2014  197.38  214.82   \n",
       "7      7000701601            7/31/2014            8/31/2014 1069.18 1349.85   \n",
       "8      7001524846            7/31/2014            8/31/2014  378.72  492.22   \n",
       "21     7002124215            7/31/2014            8/31/2014  514.45  597.75   \n",
       "23     7000887461            7/31/2014            8/31/2014   74.35  193.90   \n",
       "\n",
       "    arpu_8  onnet_mou_6  onnet_mou_7  onnet_mou_8  offnet_mou_6  ...    \\\n",
       "0   213.80         0.00         0.00         0.00          0.00  ...     \n",
       "7  3171.48        57.84        54.68        52.29        453.43  ...     \n",
       "8   137.36       413.69       351.03        35.08         94.66  ...     \n",
       "21  637.76       102.41       132.11        85.14        757.93  ...     \n",
       "23  366.97        48.96        50.66        33.58         85.41  ...     \n",
       "\n",
       "    fb6_1.0  fb7_0.0  fb7_1.0  fb8_0.0  fb8_1.0  total_rech_data_amt_6  \\\n",
       "0         1        0        1        0        1                 252.00   \n",
       "7         0        0        0        0        0                   0.00   \n",
       "8         0        0        1        0        1                   0.00   \n",
       "21        0        0        0        0        0                   0.00   \n",
       "23        0        0        1        0        1                   0.00   \n",
       "\n",
       "    total_rech_data_amt_7  total_rech_data_amt_8  average_rechamt_67  churn  \n",
       "0                  252.00                 252.00              559.00      1  \n",
       "7                    0.00                   0.00             1185.00      1  \n",
       "8                  354.00                 207.00              696.00      0  \n",
       "21                   0.00                   0.00              640.00      0  \n",
       "23                 712.00                 540.00              583.00      0  \n",
       "\n",
       "[5 rows x 132 columns]"
      ]
     },
     "execution_count": 45,
     "metadata": {},
     "output_type": "execute_result"
    }
   ],
   "source": [
    "print (color.BOLD + 'Identying columns with no variance' + color.END)\n",
    "tele_unique = tele.nunique().sort_values(ascending=False)\n",
    "#print(\"Dataframe unique value:\\n\",tele_unique);print_ln()\n",
    "# Identify columns with no information i.e. all entries are NA or same\n",
    "# Finding coulmns with all null entries\n",
    "tele_unique_zero=tele_unique[tele_unique ==0]\n",
    "print(\"Dataframe unique value count is zero (all null values): \\n\",tele_unique_zero);print_ln();\n",
    "drop_no_variance_col =list(tele_unique_zero.index)\n",
    "# Identifying columns with all same value\n",
    "tele_unique_one = tele_unique[tele_unique ==1]\n",
    "print(\"Dataframe unique value count is one (all same values): \\n\",tele_unique_one);print_ln();\n",
    "drop_no_variance_col +=list(tele_unique_one.index)\n",
    "tele.drop(drop_no_variance_col, axis=1, inplace=True)\n",
    "print('Dataframe Shape: ', tele.shape);print_ln();\n",
    "print('No of columns dropped: ', len(drop_no_variance_col));print_ln();\n",
    "print('Dataframe Shape: ', tele.shape);print_ln();\n",
    "tele.head()\n"
   ]
  },
  {
   "cell_type": "code",
   "execution_count": null,
   "metadata": {},
   "outputs": [],
   "source": []
  },
  {
   "cell_type": "code",
   "execution_count": 47,
   "metadata": {},
   "outputs": [
    {
     "name": "stdout",
     "output_type": "stream",
     "text": [
      "\u001b[1mRows with missing values\u001b[0m\n",
      "Rows with missing values = 0\n"
     ]
    },
    {
     "data": {
      "text/plain": [
       "Series([], dtype: int64)"
      ]
     },
     "execution_count": 47,
     "metadata": {},
     "output_type": "execute_result"
    }
   ],
   "source": [
    "print (color.BOLD + 'Rows with missing values' + color.END)\n",
    "print(\"Rows with missing values =\",tele.isnull().all(axis=1).sum())\n",
    "rows_mis_data=tele.isnull().sum(axis=1)\n",
    "rows_mis_data[rows_mis_data >0]"
   ]
  },
  {
   "cell_type": "code",
   "execution_count": 48,
   "metadata": {},
   "outputs": [
    {
     "name": "stdout",
     "output_type": "stream",
     "text": [
      "Dataframe Shape:  (29953, 132)\n"
     ]
    }
   ],
   "source": [
    "# small % of riws has >=27 missing values\n",
    "# droping these rows\n",
    "drop_row=tele.isnull().sum(axis=1) >=27\n",
    "tele = tele[tele.isnull().sum(axis=1) <27]\n",
    "print('Dataframe Shape: ', tele.shape)"
   ]
  },
  {
   "cell_type": "code",
   "execution_count": 49,
   "metadata": {},
   "outputs": [
    {
     "data": {
      "text/plain": [
       "Series([], dtype: int64)"
      ]
     },
     "execution_count": 49,
     "metadata": {},
     "output_type": "execute_result"
    }
   ],
   "source": [
    "rows_mis_data=tele.isnull().sum(axis=1)\n",
    "rows_mis_data[rows_mis_data >0]"
   ]
  },
  {
   "cell_type": "code",
   "execution_count": 50,
   "metadata": {},
   "outputs": [
    {
     "data": {
      "text/plain": [
       "Series([], dtype: float64)"
      ]
     },
     "execution_count": 50,
     "metadata": {},
     "output_type": "execute_result"
    }
   ],
   "source": [
    "# looking at the column summary\n",
    "df=round(100*(tele.isnull().sum()/len(tele.index)),2)\n",
    "df[df>0]"
   ]
  },
  {
   "cell_type": "code",
   "execution_count": 51,
   "metadata": {},
   "outputs": [
    {
     "name": "stdout",
     "output_type": "stream",
     "text": [
      "\u001b[1mFixing Dates\u001b[0m\n"
     ]
    },
    {
     "data": {
      "text/html": [
       "<div>\n",
       "<style scoped>\n",
       "    .dataframe tbody tr th:only-of-type {\n",
       "        vertical-align: middle;\n",
       "    }\n",
       "\n",
       "    .dataframe tbody tr th {\n",
       "        vertical-align: top;\n",
       "    }\n",
       "\n",
       "    .dataframe thead th {\n",
       "        text-align: right;\n",
       "    }\n",
       "</style>\n",
       "<table border=\"1\" class=\"dataframe\">\n",
       "  <thead>\n",
       "    <tr style=\"text-align: right;\">\n",
       "      <th></th>\n",
       "      <th>date_of_last_rech_6</th>\n",
       "      <th>date_of_last_rech_7</th>\n",
       "      <th>date_of_last_rech_8</th>\n",
       "    </tr>\n",
       "  </thead>\n",
       "  <tbody>\n",
       "    <tr>\n",
       "      <th>0</th>\n",
       "      <td>6/21/2014</td>\n",
       "      <td>7/16/2014</td>\n",
       "      <td>8/8/2014</td>\n",
       "    </tr>\n",
       "    <tr>\n",
       "      <th>7</th>\n",
       "      <td>6/27/2014</td>\n",
       "      <td>7/25/2014</td>\n",
       "      <td>8/26/2014</td>\n",
       "    </tr>\n",
       "    <tr>\n",
       "      <th>8</th>\n",
       "      <td>6/25/2014</td>\n",
       "      <td>7/31/2014</td>\n",
       "      <td>8/30/2014</td>\n",
       "    </tr>\n",
       "    <tr>\n",
       "      <th>21</th>\n",
       "      <td>6/30/2014</td>\n",
       "      <td>7/31/2014</td>\n",
       "      <td>8/31/2014</td>\n",
       "    </tr>\n",
       "    <tr>\n",
       "      <th>23</th>\n",
       "      <td>6/18/2014</td>\n",
       "      <td>7/7/2014</td>\n",
       "      <td>8/24/2014</td>\n",
       "    </tr>\n",
       "  </tbody>\n",
       "</table>\n",
       "</div>"
      ],
      "text/plain": [
       "   date_of_last_rech_6 date_of_last_rech_7 date_of_last_rech_8\n",
       "0            6/21/2014           7/16/2014            8/8/2014\n",
       "7            6/27/2014           7/25/2014           8/26/2014\n",
       "8            6/25/2014           7/31/2014           8/30/2014\n",
       "21           6/30/2014           7/31/2014           8/31/2014\n",
       "23           6/18/2014            7/7/2014           8/24/2014"
      ]
     },
     "execution_count": 51,
     "metadata": {},
     "output_type": "execute_result"
    }
   ],
   "source": [
    "print (color.BOLD + 'Fixing Dates' + color.END)\n",
    "date_var=[\"date_of_last_rech_6\",\"date_of_last_rech_7\",\"date_of_last_rech_8\"]\n",
    "tele[date_var].head()"
   ]
  },
  {
   "cell_type": "code",
   "execution_count": 52,
   "metadata": {},
   "outputs": [
    {
     "name": "stdout",
     "output_type": "stream",
     "text": [
      "<class 'pandas.core.frame.DataFrame'>\n",
      "Int64Index: 29953 entries, 0 to 99997\n",
      "Data columns (total 3 columns):\n",
      "date_of_last_rech_6    29953 non-null datetime64[ns]\n",
      "date_of_last_rech_7    29953 non-null datetime64[ns]\n",
      "date_of_last_rech_8    29953 non-null datetime64[ns]\n",
      "dtypes: datetime64[ns](3)\n",
      "memory usage: 936.0 KB\n",
      "None\n"
     ]
    },
    {
     "data": {
      "text/html": [
       "<div>\n",
       "<style scoped>\n",
       "    .dataframe tbody tr th:only-of-type {\n",
       "        vertical-align: middle;\n",
       "    }\n",
       "\n",
       "    .dataframe tbody tr th {\n",
       "        vertical-align: top;\n",
       "    }\n",
       "\n",
       "    .dataframe thead th {\n",
       "        text-align: right;\n",
       "    }\n",
       "</style>\n",
       "<table border=\"1\" class=\"dataframe\">\n",
       "  <thead>\n",
       "    <tr style=\"text-align: right;\">\n",
       "      <th></th>\n",
       "      <th>date_of_last_rech_6</th>\n",
       "      <th>date_of_last_rech_7</th>\n",
       "      <th>date_of_last_rech_8</th>\n",
       "    </tr>\n",
       "  </thead>\n",
       "  <tbody>\n",
       "    <tr>\n",
       "      <th>0</th>\n",
       "      <td>2014-06-21</td>\n",
       "      <td>2014-07-16</td>\n",
       "      <td>2014-08-08</td>\n",
       "    </tr>\n",
       "    <tr>\n",
       "      <th>7</th>\n",
       "      <td>2014-06-27</td>\n",
       "      <td>2014-07-25</td>\n",
       "      <td>2014-08-26</td>\n",
       "    </tr>\n",
       "    <tr>\n",
       "      <th>8</th>\n",
       "      <td>2014-06-25</td>\n",
       "      <td>2014-07-31</td>\n",
       "      <td>2014-08-30</td>\n",
       "    </tr>\n",
       "    <tr>\n",
       "      <th>21</th>\n",
       "      <td>2014-06-30</td>\n",
       "      <td>2014-07-31</td>\n",
       "      <td>2014-08-31</td>\n",
       "    </tr>\n",
       "    <tr>\n",
       "      <th>23</th>\n",
       "      <td>2014-06-18</td>\n",
       "      <td>2014-07-07</td>\n",
       "      <td>2014-08-24</td>\n",
       "    </tr>\n",
       "  </tbody>\n",
       "</table>\n",
       "</div>"
      ],
      "text/plain": [
       "   date_of_last_rech_6 date_of_last_rech_7 date_of_last_rech_8\n",
       "0           2014-06-21          2014-07-16          2014-08-08\n",
       "7           2014-06-27          2014-07-25          2014-08-26\n",
       "8           2014-06-25          2014-07-31          2014-08-30\n",
       "21          2014-06-30          2014-07-31          2014-08-31\n",
       "23          2014-06-18          2014-07-07          2014-08-24"
      ]
     },
     "execution_count": 52,
     "metadata": {},
     "output_type": "execute_result"
    }
   ],
   "source": [
    "# converting to datetime\n",
    "for col in date_var:\n",
    "    tele[col]=pd.to_datetime(tele[col])\n",
    "print(tele[date_var].info())\n",
    "tele[date_var].head()"
   ]
  },
  {
   "cell_type": "code",
   "execution_count": 53,
   "metadata": {},
   "outputs": [
    {
     "name": "stdout",
     "output_type": "stream",
     "text": [
      "<class 'pandas.core.frame.DataFrame'>\n",
      "Int64Index: 29953 entries, 0 to 99997\n",
      "Data columns (total 3 columns):\n",
      "rech_days_left_6    29953 non-null float64\n",
      "rech_days_left_7    29953 non-null float64\n",
      "rech_days_left_8    29953 non-null float64\n",
      "dtypes: float64(3)\n",
      "memory usage: 936.0 KB\n",
      "None\n"
     ]
    }
   ],
   "source": [
    "# creating days column\n",
    "import datetime\n",
    "\n",
    "last_date_mont_6=datetime.datetime.strptime(\"30-06-2014\",\"%d-%m-%Y\")\n",
    "last_date_mont_7=datetime.datetime.strptime(\"31-07-2014\",\"%d-%m-%Y\")\n",
    "last_date_mont_8=datetime.datetime.strptime(\"31-08-2014\",\"%d-%m-%Y\")\n",
    "tele[\"rech_days_left_6\"]=(last_date_mont_6-tele.date_of_last_rech_6).astype('timedelta64[D]')\n",
    "tele[\"rech_days_left_7\"]=(last_date_mont_7-tele.date_of_last_rech_7).astype('timedelta64[D]')\n",
    "tele[\"rech_days_left_8\"]=(last_date_mont_8-tele.date_of_last_rech_8).astype('timedelta64[D]')\n",
    "day_col=[\"rech_days_left_6\",\"rech_days_left_7\",\"rech_days_left_8\"]\n",
    "print(tele[day_col].info())\n"
   ]
  },
  {
   "cell_type": "code",
   "execution_count": 54,
   "metadata": {},
   "outputs": [
    {
     "data": {
      "text/plain": [
       "(29953, 132)"
      ]
     },
     "execution_count": 54,
     "metadata": {},
     "output_type": "execute_result"
    }
   ],
   "source": [
    "#dropping original date columns\n",
    "tele.drop(date_var,axis=1,inplace=True)\n",
    "tele1=tele.copy()\n",
    "tele.shape\n"
   ]
  },
  {
   "cell_type": "code",
   "execution_count": 55,
   "metadata": {},
   "outputs": [
    {
     "data": {
      "text/plain": [
       "Series([], dtype: float64)"
      ]
     },
     "execution_count": 55,
     "metadata": {},
     "output_type": "execute_result"
    }
   ],
   "source": [
    "# looking at the column summary\n",
    "df=round(100*(tele.isnull().sum()/len(tele.index)),2)\n",
    "df[df>0]"
   ]
  },
  {
   "cell_type": "code",
   "execution_count": 56,
   "metadata": {},
   "outputs": [
    {
     "data": {
      "text/html": [
       "<div>\n",
       "<style scoped>\n",
       "    .dataframe tbody tr th:only-of-type {\n",
       "        vertical-align: middle;\n",
       "    }\n",
       "\n",
       "    .dataframe tbody tr th {\n",
       "        vertical-align: top;\n",
       "    }\n",
       "\n",
       "    .dataframe thead th {\n",
       "        text-align: right;\n",
       "    }\n",
       "</style>\n",
       "<table border=\"1\" class=\"dataframe\">\n",
       "  <thead>\n",
       "    <tr style=\"text-align: right;\">\n",
       "      <th></th>\n",
       "      <th>rech_days_left_6</th>\n",
       "      <th>rech_days_left_7</th>\n",
       "      <th>rech_days_left_8</th>\n",
       "    </tr>\n",
       "  </thead>\n",
       "  <tbody>\n",
       "    <tr>\n",
       "      <th>count</th>\n",
       "      <td>29953.00</td>\n",
       "      <td>29953.00</td>\n",
       "      <td>29953.00</td>\n",
       "    </tr>\n",
       "    <tr>\n",
       "      <th>mean</th>\n",
       "      <td>43.13</td>\n",
       "      <td>56.99</td>\n",
       "      <td>321.20</td>\n",
       "    </tr>\n",
       "    <tr>\n",
       "      <th>std</th>\n",
       "      <td>801.15</td>\n",
       "      <td>929.61</td>\n",
       "      <td>2251.17</td>\n",
       "    </tr>\n",
       "    <tr>\n",
       "      <th>min</th>\n",
       "      <td>0.00</td>\n",
       "      <td>0.00</td>\n",
       "      <td>0.00</td>\n",
       "    </tr>\n",
       "    <tr>\n",
       "      <th>25%</th>\n",
       "      <td>0.00</td>\n",
       "      <td>0.00</td>\n",
       "      <td>1.00</td>\n",
       "    </tr>\n",
       "    <tr>\n",
       "      <th>50%</th>\n",
       "      <td>2.00</td>\n",
       "      <td>2.00</td>\n",
       "      <td>3.00</td>\n",
       "    </tr>\n",
       "    <tr>\n",
       "      <th>75%</th>\n",
       "      <td>5.00</td>\n",
       "      <td>5.00</td>\n",
       "      <td>6.00</td>\n",
       "    </tr>\n",
       "    <tr>\n",
       "      <th>max</th>\n",
       "      <td>16251.00</td>\n",
       "      <td>16282.00</td>\n",
       "      <td>16313.00</td>\n",
       "    </tr>\n",
       "  </tbody>\n",
       "</table>\n",
       "</div>"
      ],
      "text/plain": [
       "       rech_days_left_6  rech_days_left_7  rech_days_left_8\n",
       "count          29953.00          29953.00          29953.00\n",
       "mean              43.13             56.99            321.20\n",
       "std              801.15            929.61           2251.17\n",
       "min                0.00              0.00              0.00\n",
       "25%                0.00              0.00              1.00\n",
       "50%                2.00              2.00              3.00\n",
       "75%                5.00              5.00              6.00\n",
       "max            16251.00          16282.00          16313.00"
      ]
     },
     "execution_count": 56,
     "metadata": {},
     "output_type": "execute_result"
    }
   ],
   "source": [
    "tele[['rech_days_left_6','rech_days_left_7','rech_days_left_8']].describe()"
   ]
  },
  {
   "cell_type": "code",
   "execution_count": 57,
   "metadata": {},
   "outputs": [
    {
     "data": {
      "text/plain": [
       "(29953, 127)"
      ]
     },
     "execution_count": 57,
     "metadata": {},
     "output_type": "execute_result"
    }
   ],
   "source": [
    "# mean and median are different. Using median for recharge days left\n",
    "tele.loc[np.isnan(tele['rech_days_left_6']),['rech_days_left_6']]=tele['rech_days_left_6'].median()\n",
    "tele.loc[np.isnan(tele['rech_days_left_7']),['rech_days_left_7']]=tele['rech_days_left_7'].median()\n",
    "tele.loc[np.isnan(tele['rech_days_left_8']),['rech_days_left_8']]=tele['rech_days_left_8'].median()\n",
    "#Drop dummy columns for last date of the months\n",
    "tele.drop(axis=1,inplace=True,labels=tele.filter(regex='last_date_of_month').columns)\n",
    "tele.drop(axis=1,inplace=True,labels=tele.filter(regex='date_of_last_rech').columns)\n",
    "tele.shape"
   ]
  },
  {
   "cell_type": "code",
   "execution_count": 58,
   "metadata": {},
   "outputs": [
    {
     "name": "stdout",
     "output_type": "stream",
     "text": [
      "\u001b[1mChecking for Outliers\u001b[0m\n"
     ]
    },
    {
     "data": {
      "text/html": [
       "<div>\n",
       "<style scoped>\n",
       "    .dataframe tbody tr th:only-of-type {\n",
       "        vertical-align: middle;\n",
       "    }\n",
       "\n",
       "    .dataframe tbody tr th {\n",
       "        vertical-align: top;\n",
       "    }\n",
       "\n",
       "    .dataframe thead th {\n",
       "        text-align: right;\n",
       "    }\n",
       "</style>\n",
       "<table border=\"1\" class=\"dataframe\">\n",
       "  <thead>\n",
       "    <tr style=\"text-align: right;\">\n",
       "      <th></th>\n",
       "      <th>mobile_number</th>\n",
       "      <th>arpu_6</th>\n",
       "      <th>arpu_7</th>\n",
       "      <th>arpu_8</th>\n",
       "      <th>onnet_mou_6</th>\n",
       "      <th>onnet_mou_7</th>\n",
       "      <th>onnet_mou_8</th>\n",
       "      <th>offnet_mou_6</th>\n",
       "      <th>offnet_mou_7</th>\n",
       "      <th>offnet_mou_8</th>\n",
       "      <th>...</th>\n",
       "      <th>fb8_0.0</th>\n",
       "      <th>fb8_1.0</th>\n",
       "      <th>total_rech_data_amt_6</th>\n",
       "      <th>total_rech_data_amt_7</th>\n",
       "      <th>total_rech_data_amt_8</th>\n",
       "      <th>average_rechamt_67</th>\n",
       "      <th>churn</th>\n",
       "      <th>rech_days_left_6</th>\n",
       "      <th>rech_days_left_7</th>\n",
       "      <th>rech_days_left_8</th>\n",
       "    </tr>\n",
       "  </thead>\n",
       "  <tbody>\n",
       "    <tr>\n",
       "      <th>count</th>\n",
       "      <td>29953.00</td>\n",
       "      <td>29953.00</td>\n",
       "      <td>29953.00</td>\n",
       "      <td>29953.00</td>\n",
       "      <td>29953.00</td>\n",
       "      <td>29953.00</td>\n",
       "      <td>29953.00</td>\n",
       "      <td>29953.00</td>\n",
       "      <td>29953.00</td>\n",
       "      <td>29953.00</td>\n",
       "      <td>...</td>\n",
       "      <td>29953.00</td>\n",
       "      <td>29953.00</td>\n",
       "      <td>29953.00</td>\n",
       "      <td>29953.00</td>\n",
       "      <td>29953.00</td>\n",
       "      <td>29953.00</td>\n",
       "      <td>29953.00</td>\n",
       "      <td>29953.00</td>\n",
       "      <td>29953.00</td>\n",
       "      <td>29953.00</td>\n",
       "    </tr>\n",
       "    <tr>\n",
       "      <th>mean</th>\n",
       "      <td>7001206086.45</td>\n",
       "      <td>558.82</td>\n",
       "      <td>561.16</td>\n",
       "      <td>508.89</td>\n",
       "      <td>260.90</td>\n",
       "      <td>268.05</td>\n",
       "      <td>234.35</td>\n",
       "      <td>373.80</td>\n",
       "      <td>378.23</td>\n",
       "      <td>335.12</td>\n",
       "      <td>...</td>\n",
       "      <td>0.05</td>\n",
       "      <td>0.48</td>\n",
       "      <td>456.39</td>\n",
       "      <td>528.96</td>\n",
       "      <td>463.64</td>\n",
       "      <td>1153.70</td>\n",
       "      <td>0.08</td>\n",
       "      <td>43.13</td>\n",
       "      <td>56.99</td>\n",
       "      <td>321.20</td>\n",
       "    </tr>\n",
       "    <tr>\n",
       "      <th>std</th>\n",
       "      <td>690810.17</td>\n",
       "      <td>460.87</td>\n",
       "      <td>480.03</td>\n",
       "      <td>502.14</td>\n",
       "      <td>459.85</td>\n",
       "      <td>480.30</td>\n",
       "      <td>458.75</td>\n",
       "      <td>482.71</td>\n",
       "      <td>499.14</td>\n",
       "      <td>481.99</td>\n",
       "      <td>...</td>\n",
       "      <td>0.23</td>\n",
       "      <td>0.50</td>\n",
       "      <td>1419.71</td>\n",
       "      <td>1477.10</td>\n",
       "      <td>1623.84</td>\n",
       "      <td>1359.53</td>\n",
       "      <td>0.27</td>\n",
       "      <td>801.15</td>\n",
       "      <td>929.61</td>\n",
       "      <td>2251.17</td>\n",
       "    </tr>\n",
       "    <tr>\n",
       "      <th>min</th>\n",
       "      <td>7000000074.00</td>\n",
       "      <td>-2258.71</td>\n",
       "      <td>-2014.05</td>\n",
       "      <td>-945.81</td>\n",
       "      <td>0.00</td>\n",
       "      <td>0.00</td>\n",
       "      <td>0.00</td>\n",
       "      <td>0.00</td>\n",
       "      <td>0.00</td>\n",
       "      <td>0.00</td>\n",
       "      <td>...</td>\n",
       "      <td>0.00</td>\n",
       "      <td>0.00</td>\n",
       "      <td>0.00</td>\n",
       "      <td>0.00</td>\n",
       "      <td>0.00</td>\n",
       "      <td>478.50</td>\n",
       "      <td>0.00</td>\n",
       "      <td>0.00</td>\n",
       "      <td>0.00</td>\n",
       "      <td>0.00</td>\n",
       "    </tr>\n",
       "    <tr>\n",
       "      <th>25%</th>\n",
       "      <td>7000609293.00</td>\n",
       "      <td>310.14</td>\n",
       "      <td>310.07</td>\n",
       "      <td>231.62</td>\n",
       "      <td>17.09</td>\n",
       "      <td>16.04</td>\n",
       "      <td>10.44</td>\n",
       "      <td>71.61</td>\n",
       "      <td>69.98</td>\n",
       "      <td>46.76</td>\n",
       "      <td>...</td>\n",
       "      <td>0.00</td>\n",
       "      <td>0.00</td>\n",
       "      <td>0.00</td>\n",
       "      <td>0.00</td>\n",
       "      <td>0.00</td>\n",
       "      <td>604.00</td>\n",
       "      <td>0.00</td>\n",
       "      <td>0.00</td>\n",
       "      <td>0.00</td>\n",
       "      <td>1.00</td>\n",
       "    </tr>\n",
       "    <tr>\n",
       "      <th>50%</th>\n",
       "      <td>7001203434.00</td>\n",
       "      <td>482.35</td>\n",
       "      <td>481.50</td>\n",
       "      <td>427.60</td>\n",
       "      <td>84.64</td>\n",
       "      <td>82.83</td>\n",
       "      <td>65.66</td>\n",
       "      <td>222.56</td>\n",
       "      <td>220.04</td>\n",
       "      <td>182.84</td>\n",
       "      <td>...</td>\n",
       "      <td>0.00</td>\n",
       "      <td>0.00</td>\n",
       "      <td>92.00</td>\n",
       "      <td>100.00</td>\n",
       "      <td>25.00</td>\n",
       "      <td>800.50</td>\n",
       "      <td>0.00</td>\n",
       "      <td>2.00</td>\n",
       "      <td>2.00</td>\n",
       "      <td>3.00</td>\n",
       "    </tr>\n",
       "    <tr>\n",
       "      <th>75%</th>\n",
       "      <td>7001803612.00</td>\n",
       "      <td>700.24</td>\n",
       "      <td>698.83</td>\n",
       "      <td>661.75</td>\n",
       "      <td>290.49</td>\n",
       "      <td>290.54</td>\n",
       "      <td>240.63</td>\n",
       "      <td>487.91</td>\n",
       "      <td>494.03</td>\n",
       "      <td>438.86</td>\n",
       "      <td>...</td>\n",
       "      <td>0.00</td>\n",
       "      <td>1.00</td>\n",
       "      <td>400.00</td>\n",
       "      <td>575.00</td>\n",
       "      <td>308.00</td>\n",
       "      <td>1209.00</td>\n",
       "      <td>0.00</td>\n",
       "      <td>5.00</td>\n",
       "      <td>5.00</td>\n",
       "      <td>6.00</td>\n",
       "    </tr>\n",
       "    <tr>\n",
       "      <th>90%</th>\n",
       "      <td>7002165195.80</td>\n",
       "      <td>994.41</td>\n",
       "      <td>996.17</td>\n",
       "      <td>977.55</td>\n",
       "      <td>754.56</td>\n",
       "      <td>784.83</td>\n",
       "      <td>666.27</td>\n",
       "      <td>896.42</td>\n",
       "      <td>916.36</td>\n",
       "      <td>823.88</td>\n",
       "      <td>...</td>\n",
       "      <td>0.00</td>\n",
       "      <td>1.00</td>\n",
       "      <td>1125.00</td>\n",
       "      <td>1374.00</td>\n",
       "      <td>1088.00</td>\n",
       "      <td>1992.00</td>\n",
       "      <td>0.00</td>\n",
       "      <td>11.00</td>\n",
       "      <td>10.00</td>\n",
       "      <td>12.00</td>\n",
       "    </tr>\n",
       "    <tr>\n",
       "      <th>95%</th>\n",
       "      <td>7002285169.60</td>\n",
       "      <td>1241.65</td>\n",
       "      <td>1261.89</td>\n",
       "      <td>1255.09</td>\n",
       "      <td>1135.81</td>\n",
       "      <td>1187.71</td>\n",
       "      <td>1075.38</td>\n",
       "      <td>1256.66</td>\n",
       "      <td>1272.43</td>\n",
       "      <td>1167.62</td>\n",
       "      <td>...</td>\n",
       "      <td>1.00</td>\n",
       "      <td>1.00</td>\n",
       "      <td>2065.00</td>\n",
       "      <td>2420.00</td>\n",
       "      <td>2257.60</td>\n",
       "      <td>2801.20</td>\n",
       "      <td>1.00</td>\n",
       "      <td>15.00</td>\n",
       "      <td>15.00</td>\n",
       "      <td>19.40</td>\n",
       "    </tr>\n",
       "    <tr>\n",
       "      <th>99%</th>\n",
       "      <td>7002385665.44</td>\n",
       "      <td>1985.39</td>\n",
       "      <td>1999.52</td>\n",
       "      <td>1986.74</td>\n",
       "      <td>2153.72</td>\n",
       "      <td>2202.86</td>\n",
       "      <td>2159.68</td>\n",
       "      <td>2330.36</td>\n",
       "      <td>2411.14</td>\n",
       "      <td>2191.73</td>\n",
       "      <td>...</td>\n",
       "      <td>1.00</td>\n",
       "      <td>1.00</td>\n",
       "      <td>5169.80</td>\n",
       "      <td>6205.44</td>\n",
       "      <td>5741.17</td>\n",
       "      <td>6097.94</td>\n",
       "      <td>1.00</td>\n",
       "      <td>22.00</td>\n",
       "      <td>21.00</td>\n",
       "      <td>16313.00</td>\n",
       "    </tr>\n",
       "    <tr>\n",
       "      <th>max</th>\n",
       "      <td>7002410905.00</td>\n",
       "      <td>27731.09</td>\n",
       "      <td>35145.83</td>\n",
       "      <td>33543.62</td>\n",
       "      <td>7376.71</td>\n",
       "      <td>8157.78</td>\n",
       "      <td>10752.56</td>\n",
       "      <td>8362.36</td>\n",
       "      <td>9667.13</td>\n",
       "      <td>14007.34</td>\n",
       "      <td>...</td>\n",
       "      <td>1.00</td>\n",
       "      <td>1.00</td>\n",
       "      <td>105644.00</td>\n",
       "      <td>55080.00</td>\n",
       "      <td>89106.50</td>\n",
       "      <td>61236.00</td>\n",
       "      <td>1.00</td>\n",
       "      <td>16251.00</td>\n",
       "      <td>16282.00</td>\n",
       "      <td>16313.00</td>\n",
       "    </tr>\n",
       "  </tbody>\n",
       "</table>\n",
       "<p>11 rows × 127 columns</p>\n",
       "</div>"
      ],
      "text/plain": [
       "       mobile_number   arpu_6   arpu_7   arpu_8  onnet_mou_6  onnet_mou_7  \\\n",
       "count       29953.00 29953.00 29953.00 29953.00     29953.00     29953.00   \n",
       "mean   7001206086.45   558.82   561.16   508.89       260.90       268.05   \n",
       "std        690810.17   460.87   480.03   502.14       459.85       480.30   \n",
       "min    7000000074.00 -2258.71 -2014.05  -945.81         0.00         0.00   \n",
       "25%    7000609293.00   310.14   310.07   231.62        17.09        16.04   \n",
       "50%    7001203434.00   482.35   481.50   427.60        84.64        82.83   \n",
       "75%    7001803612.00   700.24   698.83   661.75       290.49       290.54   \n",
       "90%    7002165195.80   994.41   996.17   977.55       754.56       784.83   \n",
       "95%    7002285169.60  1241.65  1261.89  1255.09      1135.81      1187.71   \n",
       "99%    7002385665.44  1985.39  1999.52  1986.74      2153.72      2202.86   \n",
       "max    7002410905.00 27731.09 35145.83 33543.62      7376.71      8157.78   \n",
       "\n",
       "       onnet_mou_8  offnet_mou_6  offnet_mou_7  offnet_mou_8  \\\n",
       "count     29953.00      29953.00      29953.00      29953.00   \n",
       "mean        234.35        373.80        378.23        335.12   \n",
       "std         458.75        482.71        499.14        481.99   \n",
       "min           0.00          0.00          0.00          0.00   \n",
       "25%          10.44         71.61         69.98         46.76   \n",
       "50%          65.66        222.56        220.04        182.84   \n",
       "75%         240.63        487.91        494.03        438.86   \n",
       "90%         666.27        896.42        916.36        823.88   \n",
       "95%        1075.38       1256.66       1272.43       1167.62   \n",
       "99%        2159.68       2330.36       2411.14       2191.73   \n",
       "max       10752.56       8362.36       9667.13      14007.34   \n",
       "\n",
       "             ...         fb8_0.0  fb8_1.0  total_rech_data_amt_6  \\\n",
       "count        ...        29953.00 29953.00               29953.00   \n",
       "mean         ...            0.05     0.48                 456.39   \n",
       "std          ...            0.23     0.50                1419.71   \n",
       "min          ...            0.00     0.00                   0.00   \n",
       "25%          ...            0.00     0.00                   0.00   \n",
       "50%          ...            0.00     0.00                  92.00   \n",
       "75%          ...            0.00     1.00                 400.00   \n",
       "90%          ...            0.00     1.00                1125.00   \n",
       "95%          ...            1.00     1.00                2065.00   \n",
       "99%          ...            1.00     1.00                5169.80   \n",
       "max          ...            1.00     1.00              105644.00   \n",
       "\n",
       "       total_rech_data_amt_7  total_rech_data_amt_8  average_rechamt_67  \\\n",
       "count               29953.00               29953.00            29953.00   \n",
       "mean                  528.96                 463.64             1153.70   \n",
       "std                  1477.10                1623.84             1359.53   \n",
       "min                     0.00                   0.00              478.50   \n",
       "25%                     0.00                   0.00              604.00   \n",
       "50%                   100.00                  25.00              800.50   \n",
       "75%                   575.00                 308.00             1209.00   \n",
       "90%                  1374.00                1088.00             1992.00   \n",
       "95%                  2420.00                2257.60             2801.20   \n",
       "99%                  6205.44                5741.17             6097.94   \n",
       "max                 55080.00               89106.50            61236.00   \n",
       "\n",
       "         churn  rech_days_left_6  rech_days_left_7  rech_days_left_8  \n",
       "count 29953.00          29953.00          29953.00          29953.00  \n",
       "mean      0.08             43.13             56.99            321.20  \n",
       "std       0.27            801.15            929.61           2251.17  \n",
       "min       0.00              0.00              0.00              0.00  \n",
       "25%       0.00              0.00              0.00              1.00  \n",
       "50%       0.00              2.00              2.00              3.00  \n",
       "75%       0.00              5.00              5.00              6.00  \n",
       "90%       0.00             11.00             10.00             12.00  \n",
       "95%       1.00             15.00             15.00             19.40  \n",
       "99%       1.00             22.00             21.00          16313.00  \n",
       "max       1.00          16251.00          16282.00          16313.00  \n",
       "\n",
       "[11 rows x 127 columns]"
      ]
     },
     "execution_count": 58,
     "metadata": {},
     "output_type": "execute_result"
    }
   ],
   "source": [
    "print (color.BOLD + 'Checking for Outliers' + color.END)\n",
    "# checking outliers at differnt percentiles\n",
    "tele.describe(percentiles=[.25,.5,.75,.90,.95,.99])"
   ]
  },
  {
   "cell_type": "code",
   "execution_count": 59,
   "metadata": {},
   "outputs": [
    {
     "name": "stdout",
     "output_type": "stream",
     "text": [
      "Original dataframe shape:  (99999, 226)\n",
      "________________________________________________________________________________ \n",
      "\n",
      "Original dataframe info: \n",
      "\n",
      "<class 'pandas.core.frame.DataFrame'>\n",
      "RangeIndex: 99999 entries, 0 to 99998\n",
      "Columns: 226 entries, mobile_number to sep_vbc_3g\n",
      "dtypes: float64(179), int64(35), object(12)\n",
      "memory usage: 172.4+ MB\n",
      "________________________________________________________________________________ \n",
      "\n",
      "Original dataframe No of Nulls: 3594931\n",
      "________________________________________________________________________________ \n",
      "\n",
      "Cleaned dataframe shape:  (29953, 127)\n",
      "________________________________________________________________________________ \n",
      "\n",
      "Cleaned dataframe info: \n",
      "\n",
      "<class 'pandas.core.frame.DataFrame'>\n",
      "Int64Index: 29953 entries, 0 to 99997\n",
      "Columns: 127 entries, mobile_number to rech_days_left_8\n",
      "dtypes: float64(88), int32(1), int64(26), uint8(12)\n",
      "memory usage: 26.7 MB\n",
      "________________________________________________________________________________ \n",
      "\n",
      "Cleaned dataframe No of Nulls: 0\n",
      "________________________________________________________________________________ \n",
      "\n"
     ]
    }
   ],
   "source": [
    "# most of the outliers are on the revenue data and the model being build on usage, hence not treating the outliers\n",
    "print('Original dataframe shape: ',tele_org.shape);print_ln();\n",
    "print('Original dataframe info: \\n');tele_org.info();print_ln();\n",
    "print('Original dataframe No of Nulls:', tele_org.isnull().sum().sum());print_ln();\n",
    "\n",
    "print('Cleaned dataframe shape: ',tele.shape);print_ln();\n",
    "print('Cleaned dataframe info: \\n');tele.info();print_ln();\n",
    "print('Cleaned dataframe No of Nulls:', tele.isnull().sum().sum());print_ln();\n",
    "\n",
    "# Saving the Cleaned data\n",
    "tele.to_csv(\"telecom_churn_clean.csv\",sep=',', index=False)"
   ]
  },
  {
   "cell_type": "code",
   "execution_count": 60,
   "metadata": {},
   "outputs": [
    {
     "name": "stdout",
     "output_type": "stream",
     "text": [
      "Total churn count =2433 \n",
      "Total not-churn count =27520\n",
      "Churn Rate =8.12%\n",
      "________________________________________________________________________________ \n",
      "\n"
     ]
    }
   ],
   "source": [
    "# Checking data\n",
    "churn = tele[\"churn\"].value_counts()\n",
    "churn_rate=churn[1]/(churn[1]+churn[0])\n",
    "print(\"Total churn count ={} \".format(churn[1]))\n",
    "print(\"Total not-churn count ={}\".format(churn[0]))\n",
    "print(\"Churn Rate ={:.2f}%\".format(churn_rate*100))\n",
    "print_ln()\n",
    "       "
   ]
  },
  {
   "cell_type": "code",
   "execution_count": 61,
   "metadata": {},
   "outputs": [],
   "source": [
    "# dropping mobile number\n",
    "tele.drop('mobile_number',axis=1,inplace=True)"
   ]
  },
  {
   "cell_type": "code",
   "execution_count": 62,
   "metadata": {},
   "outputs": [
    {
     "data": {
      "text/plain": [
       "<matplotlib.axes._subplots.AxesSubplot at 0x1d9b730fe48>"
      ]
     },
     "execution_count": 62,
     "metadata": {},
     "output_type": "execute_result"
    },
    {
     "data": {
      "image/png": "[encoded data removed]",
      "text/plain": [
       "<Figure size 1440x1440 with 2 Axes>"
      ]
     },
     "metadata": {
      "needs_background": "light"
     },
     "output_type": "display_data"
    }
   ],
   "source": [
    "# Let's see the correlation matrix \n",
    "plt.figure(figsize = (20,20))        # Size of the figure\n",
    "sns.heatmap(tele.corr())"
   ]
  },
  {
   "cell_type": "code",
   "execution_count": 63,
   "metadata": {},
   "outputs": [],
   "source": [
    "##Dropping highly correlated variables.\n",
    "##Some of the following columns are highly correlated (as seen from the colour coding), removing them from the further processing\n",
    "##Maximum Recharge Data\n",
    "##Outgoing STD\n",
    "##CIRCLE ID\n",
    "##local Outgoing to Other networks\n",
    "##Average Usage\n",
    "##Average Recharge Data\n",
    "tele.drop(axis=1,inplace=True,labels=tele.filter(regex='max_rech_data').columns)\n",
    "tele.drop(axis=1,inplace=True,labels=tele.filter(regex='std_og_t2').columns)\n",
    "tele.drop(axis=1,inplace=True,labels=tele.filter(regex='circle_id').columns)\n",
    "tele.drop(axis=1,inplace=True,labels=tele.filter(regex='loc_og_t2o_mou').columns)\n",
    "tele.drop(axis=1,inplace=True,labels=tele.filter(regex='arpu_').columns)\n",
    "tele.drop(axis=1,inplace=True,labels=tele.filter(regex='av_rech_amt_data').columns)\n",
    "tele = tele.apply(pd.to_numeric)"
   ]
  },
  {
   "cell_type": "code",
   "execution_count": 64,
   "metadata": {},
   "outputs": [
    {
     "name": "stdout",
     "output_type": "stream",
     "text": [
      "\u001b[1mCreate X, y variables\u001b[0m\n"
     ]
    }
   ],
   "source": [
    "print (color.BOLD + 'Create X, y variables' + color.END)"
   ]
  },
  {
   "cell_type": "code",
   "execution_count": 65,
   "metadata": {},
   "outputs": [
    {
     "name": "stdout",
     "output_type": "stream",
     "text": [
      "\u001b[1mNormalizing data\u001b[0m\n"
     ]
    }
   ],
   "source": [
    "X = tele.drop(['churn'],axis=1)\n",
    "y = tele['churn']\n",
    "print (color.BOLD + 'Normalizing data' + color.END)"
   ]
  },
  {
   "cell_type": "code",
   "execution_count": 66,
   "metadata": {},
   "outputs": [
    {
     "data": {
      "text/plain": [
       "Index(['night6_0.0', 'night6_1.0', 'night7_0.0', 'night7_1.0', 'night8_0.0',\n",
       "       'night8_1.0', 'fb6_0.0', 'fb6_1.0', 'fb7_0.0', 'fb7_1.0', 'fb8_0.0',\n",
       "       'fb8_1.0', 'churn'],\n",
       "      dtype='object')"
      ]
     },
     "execution_count": 66,
     "metadata": {},
     "output_type": "execute_result"
    }
   ],
   "source": [
    "df = tele[['aon','average_rechamt_67']]\n",
    "normalized_df=(df-df.mean())/df.std()\n",
    "tele = tele.drop(['aon','average_rechamt_67'], 1)\n",
    "tele = pd.concat([tele,normalized_df],axis=1)\n",
    "tele.select_dtypes(exclude=[\"int64\",\"float64\"]).columns"
   ]
  },
  {
   "cell_type": "code",
   "execution_count": 67,
   "metadata": {},
   "outputs": [
    {
     "name": "stdout",
     "output_type": "stream",
     "text": [
      "(20967, 104)\n",
      "(8986, 104)\n"
     ]
    },
    {
     "data": {
      "text/plain": [
       "Index(['night6_0.0', 'night6_1.0', 'night7_0.0', 'night7_1.0', 'night8_0.0',\n",
       "       'night8_1.0', 'fb6_0.0', 'fb6_1.0', 'fb7_0.0', 'fb7_1.0', 'fb8_0.0',\n",
       "       'fb8_1.0'],\n",
       "      dtype='object')"
      ]
     },
     "execution_count": 67,
     "metadata": {},
     "output_type": "execute_result"
    }
   ],
   "source": [
    "from sklearn.linear_model import LogisticRegression\n",
    "import statsmodels.api as sm\n",
    "from sklearn.model_selection import train_test_split\n",
    "X_train, X_test,y_train,y_test =train_test_split(X,y,train_size=0.7,random_state=42)\n",
    "print(X_train.shape)\n",
    "print(X_test.shape)\n",
    "X_train = X_train.apply(pd.to_numeric)\n",
    "X_train.select_dtypes(exclude=[\"int64\",\"float64\"]).columns   "
   ]
  },
  {
   "cell_type": "code",
   "execution_count": null,
   "metadata": {},
   "outputs": [],
   "source": []
  },
  {
   "cell_type": "code",
   "execution_count": 68,
   "metadata": {},
   "outputs": [
    {
     "data": {
      "text/plain": [
       "array([[-2.33747380e-02, -2.50628192e-02, -1.90433393e-02, ...,\n",
       "        -3.95516592e-03, -1.82769224e-02, -1.14078372e-01],\n",
       "       [-1.38714655e-02, -2.16300784e-02, -2.50467823e-02, ...,\n",
       "         1.31462286e-02,  1.13252324e-01,  9.79782628e-01],\n",
       "       [ 1.53998220e-01,  1.79242889e-01,  1.66352547e-01, ...,\n",
       "         8.16129233e-05,  1.39341474e-02,  9.44101515e-02],\n",
       "       ...,\n",
       "       [ 0.00000000e+00, -1.37609640e-16,  1.32683499e-16, ...,\n",
       "        -5.80457433e-20,  1.74930291e-20, -3.67297728e-20],\n",
       "       [ 0.00000000e+00, -6.15498706e-17,  8.65315581e-17, ...,\n",
       "         3.20216060e-20,  8.66532617e-20,  5.84479365e-21],\n",
       "       [-0.00000000e+00, -4.68022626e-17,  3.58404558e-17, ...,\n",
       "        -3.80737162e-21, -8.12179603e-21, -2.52829631e-20]])"
      ]
     },
     "execution_count": 68,
     "metadata": {},
     "output_type": "execute_result"
    }
   ],
   "source": [
    "from sklearn.decomposition import PCA\n",
    "pca=PCA(random_state=100)\n",
    "pca.fit(X_train)\n",
    "pca.components_"
   ]
  },
  {
   "cell_type": "code",
   "execution_count": 72,
   "metadata": {},
   "outputs": [
    {
     "data": {
      "text/html": [
       "<div>\n",
       "<style scoped>\n",
       "    .dataframe tbody tr th:only-of-type {\n",
       "        vertical-align: middle;\n",
       "    }\n",
       "\n",
       "    .dataframe tbody tr th {\n",
       "        vertical-align: top;\n",
       "    }\n",
       "\n",
       "    .dataframe thead th {\n",
       "        text-align: right;\n",
       "    }\n",
       "</style>\n",
       "<table border=\"1\" class=\"dataframe\">\n",
       "  <thead>\n",
       "    <tr style=\"text-align: right;\">\n",
       "      <th></th>\n",
       "      <th>PC1</th>\n",
       "      <th>PC2</th>\n",
       "      <th>PC3</th>\n",
       "      <th>Feature</th>\n",
       "    </tr>\n",
       "  </thead>\n",
       "  <tbody>\n",
       "    <tr>\n",
       "      <th>0</th>\n",
       "      <td>-0.02</td>\n",
       "      <td>-0.01</td>\n",
       "      <td>0.15</td>\n",
       "      <td>onnet_mou_6</td>\n",
       "    </tr>\n",
       "    <tr>\n",
       "      <th>1</th>\n",
       "      <td>-0.03</td>\n",
       "      <td>-0.02</td>\n",
       "      <td>0.18</td>\n",
       "      <td>onnet_mou_7</td>\n",
       "    </tr>\n",
       "    <tr>\n",
       "      <th>2</th>\n",
       "      <td>-0.02</td>\n",
       "      <td>-0.03</td>\n",
       "      <td>0.17</td>\n",
       "      <td>onnet_mou_8</td>\n",
       "    </tr>\n",
       "    <tr>\n",
       "      <th>3</th>\n",
       "      <td>-0.03</td>\n",
       "      <td>-0.01</td>\n",
       "      <td>0.18</td>\n",
       "      <td>offnet_mou_6</td>\n",
       "    </tr>\n",
       "    <tr>\n",
       "      <th>4</th>\n",
       "      <td>-0.03</td>\n",
       "      <td>-0.02</td>\n",
       "      <td>0.20</td>\n",
       "      <td>offnet_mou_7</td>\n",
       "    </tr>\n",
       "    <tr>\n",
       "      <th>5</th>\n",
       "      <td>-0.02</td>\n",
       "      <td>-0.03</td>\n",
       "      <td>0.18</td>\n",
       "      <td>offnet_mou_8</td>\n",
       "    </tr>\n",
       "    <tr>\n",
       "      <th>6</th>\n",
       "      <td>-0.00</td>\n",
       "      <td>-0.00</td>\n",
       "      <td>0.00</td>\n",
       "      <td>roam_ic_mou_6</td>\n",
       "    </tr>\n",
       "    <tr>\n",
       "      <th>7</th>\n",
       "      <td>-0.00</td>\n",
       "      <td>-0.00</td>\n",
       "      <td>0.00</td>\n",
       "      <td>roam_ic_mou_7</td>\n",
       "    </tr>\n",
       "    <tr>\n",
       "      <th>8</th>\n",
       "      <td>-0.00</td>\n",
       "      <td>-0.00</td>\n",
       "      <td>0.00</td>\n",
       "      <td>roam_ic_mou_8</td>\n",
       "    </tr>\n",
       "    <tr>\n",
       "      <th>9</th>\n",
       "      <td>-0.00</td>\n",
       "      <td>-0.00</td>\n",
       "      <td>0.01</td>\n",
       "      <td>roam_og_mou_6</td>\n",
       "    </tr>\n",
       "    <tr>\n",
       "      <th>10</th>\n",
       "      <td>-0.00</td>\n",
       "      <td>-0.00</td>\n",
       "      <td>0.00</td>\n",
       "      <td>roam_og_mou_7</td>\n",
       "    </tr>\n",
       "    <tr>\n",
       "      <th>11</th>\n",
       "      <td>-0.00</td>\n",
       "      <td>-0.00</td>\n",
       "      <td>0.01</td>\n",
       "      <td>roam_og_mou_8</td>\n",
       "    </tr>\n",
       "    <tr>\n",
       "      <th>12</th>\n",
       "      <td>-0.00</td>\n",
       "      <td>-0.00</td>\n",
       "      <td>0.03</td>\n",
       "      <td>loc_og_t2t_mou_6</td>\n",
       "    </tr>\n",
       "    <tr>\n",
       "      <th>13</th>\n",
       "      <td>-0.00</td>\n",
       "      <td>-0.01</td>\n",
       "      <td>0.04</td>\n",
       "      <td>loc_og_t2t_mou_7</td>\n",
       "    </tr>\n",
       "    <tr>\n",
       "      <th>14</th>\n",
       "      <td>-0.00</td>\n",
       "      <td>-0.01</td>\n",
       "      <td>0.04</td>\n",
       "      <td>loc_og_t2t_mou_8</td>\n",
       "    </tr>\n",
       "    <tr>\n",
       "      <th>15</th>\n",
       "      <td>-0.01</td>\n",
       "      <td>-0.00</td>\n",
       "      <td>0.04</td>\n",
       "      <td>loc_og_t2m_mou_6</td>\n",
       "    </tr>\n",
       "    <tr>\n",
       "      <th>16</th>\n",
       "      <td>-0.01</td>\n",
       "      <td>-0.01</td>\n",
       "      <td>0.04</td>\n",
       "      <td>loc_og_t2m_mou_7</td>\n",
       "    </tr>\n",
       "    <tr>\n",
       "      <th>17</th>\n",
       "      <td>-0.00</td>\n",
       "      <td>-0.01</td>\n",
       "      <td>0.04</td>\n",
       "      <td>loc_og_t2m_mou_8</td>\n",
       "    </tr>\n",
       "    <tr>\n",
       "      <th>18</th>\n",
       "      <td>-0.00</td>\n",
       "      <td>-0.00</td>\n",
       "      <td>0.00</td>\n",
       "      <td>loc_og_t2f_mou_6</td>\n",
       "    </tr>\n",
       "    <tr>\n",
       "      <th>19</th>\n",
       "      <td>-0.00</td>\n",
       "      <td>-0.00</td>\n",
       "      <td>0.00</td>\n",
       "      <td>loc_og_t2f_mou_7</td>\n",
       "    </tr>\n",
       "    <tr>\n",
       "      <th>20</th>\n",
       "      <td>-0.00</td>\n",
       "      <td>-0.00</td>\n",
       "      <td>0.00</td>\n",
       "      <td>loc_og_t2f_mou_8</td>\n",
       "    </tr>\n",
       "  </tbody>\n",
       "</table>\n",
       "</div>"
      ],
      "text/plain": [
       "     PC1   PC2  PC3           Feature\n",
       "0  -0.02 -0.01 0.15       onnet_mou_6\n",
       "1  -0.03 -0.02 0.18       onnet_mou_7\n",
       "2  -0.02 -0.03 0.17       onnet_mou_8\n",
       "3  -0.03 -0.01 0.18      offnet_mou_6\n",
       "4  -0.03 -0.02 0.20      offnet_mou_7\n",
       "5  -0.02 -0.03 0.18      offnet_mou_8\n",
       "6  -0.00 -0.00 0.00     roam_ic_mou_6\n",
       "7  -0.00 -0.00 0.00     roam_ic_mou_7\n",
       "8  -0.00 -0.00 0.00     roam_ic_mou_8\n",
       "9  -0.00 -0.00 0.01     roam_og_mou_6\n",
       "10 -0.00 -0.00 0.00     roam_og_mou_7\n",
       "11 -0.00 -0.00 0.01     roam_og_mou_8\n",
       "12 -0.00 -0.00 0.03  loc_og_t2t_mou_6\n",
       "13 -0.00 -0.01 0.04  loc_og_t2t_mou_7\n",
       "14 -0.00 -0.01 0.04  loc_og_t2t_mou_8\n",
       "15 -0.01 -0.00 0.04  loc_og_t2m_mou_6\n",
       "16 -0.01 -0.01 0.04  loc_og_t2m_mou_7\n",
       "17 -0.00 -0.01 0.04  loc_og_t2m_mou_8\n",
       "18 -0.00 -0.00 0.00  loc_og_t2f_mou_6\n",
       "19 -0.00 -0.00 0.00  loc_og_t2f_mou_7\n",
       "20 -0.00 -0.00 0.00  loc_og_t2f_mou_8"
      ]
     },
     "execution_count": 72,
     "metadata": {},
     "output_type": "execute_result"
    }
   ],
   "source": [
    "colnames = list(X_train.columns)\n",
    "pca_df = pd.DataFrame({'PC1':pca.components_[0],'PC2':pca.components_[1],'PC3':pca.components_[2], 'Feature':colnames})\n",
    "pca_df[:21]"
   ]
  },
  {
   "cell_type": "code",
   "execution_count": null,
   "metadata": {},
   "outputs": [],
   "source": [
    "pca.explained_variance_ratio_"
   ]
  },
  {
   "cell_type": "code",
   "execution_count": 74,
   "metadata": {},
   "outputs": [
    {
     "data": {
      "image/png": "[encoded data removed]",
      "text/plain": [
       "<Figure size 864x576 with 1 Axes>"
      ]
     },
     "metadata": {
      "needs_background": "light"
     },
     "output_type": "display_data"
    }
   ],
   "source": [
    "#Making the screeplot - plotting the cumulative variance against the number of components\n",
    "%matplotlib inline\n",
    "fig = plt.figure(figsize = (12,8))\n",
    "plt.plot(np.cumsum(pca.explained_variance_ratio_))\n",
    "plt.xlabel('number of components')\n",
    "plt.ylabel('cumulative explained variance')\n",
    "plt.show()"
   ]
  },
  {
   "cell_type": "code",
   "execution_count": 76,
   "metadata": {},
   "outputs": [
    {
     "data": {
      "text/plain": [
       "array([25.86, 45.6 , 56.83, 63.59, 68.78, 72.98, 77.09, 80.41, 83.12,\n",
       "       85.74, 87.93, 89.89, 91.64, 92.61, 93.56, 94.47, 95.35, 96.08,\n",
       "       96.76, 97.09, 97.39, 97.68, 97.95, 98.19, 98.41, 98.61, 98.78,\n",
       "       98.92, 99.06, 99.19, 99.32, 99.44, 99.55, 99.62, 99.67, 99.72,\n",
       "       99.76, 99.8 , 99.83, 99.86, 99.88, 99.9 , 99.92, 99.94, 99.96,\n",
       "       99.97, 99.98, 99.98, 99.98, 99.98, 99.98, 99.98, 99.98, 99.98,\n",
       "       99.98, 99.98, 99.98, 99.98, 99.98, 99.98, 99.98, 99.98, 99.98,\n",
       "       99.98, 99.98, 99.98, 99.98, 99.98, 99.98, 99.98, 99.98, 99.98,\n",
       "       99.98, 99.98, 99.98, 99.98, 99.98, 99.98, 99.98, 99.98, 99.98,\n",
       "       99.98, 99.98, 99.98, 99.98, 99.98, 99.98, 99.98, 99.98, 99.98,\n",
       "       99.98, 99.98, 99.98, 99.98, 99.98, 99.98, 99.98, 99.98, 99.98,\n",
       "       99.98, 99.98, 99.98, 99.98, 99.98])"
      ]
     },
     "execution_count": 76,
     "metadata": {},
     "output_type": "execute_result"
    }
   ],
   "source": [
    "np.cumsum(np.round(pca.explained_variance_ratio_,decimals=4)*100)"
   ]
  },
  {
   "cell_type": "code",
   "execution_count": 77,
   "metadata": {},
   "outputs": [
    {
     "data": {
      "text/plain": [
       "(20967, 18)"
      ]
     },
     "execution_count": 77,
     "metadata": {},
     "output_type": "execute_result"
    }
   ],
   "source": [
    "#Looks like 18 components are enough to describe 95% of the variance in the dataset\n",
    "#We'll choose 18 components for our modeling\n",
    "#Using incremental PCA for efficiency - saves a lot of time on larger datasets\n",
    "from sklearn.decomposition import IncrementalPCA\n",
    "pca_final = IncrementalPCA(n_components=18)\n",
    "#Basis transformation - getting the data onto our PCs\n",
    "df_train_pca = pca_final.fit_transform(X_train)\n",
    "df_train_pca.shape                           "
   ]
  },
  {
   "cell_type": "code",
   "execution_count": 78,
   "metadata": {},
   "outputs": [
    {
     "name": "stdout",
     "output_type": "stream",
     "text": [
      "\u001b[1mcorrelation matrix\u001b[0m\n"
     ]
    },
    {
     "data": {
      "text/plain": [
       "<matplotlib.axes._subplots.AxesSubplot at 0x1d9b035d5c0>"
      ]
     },
     "execution_count": 78,
     "metadata": {},
     "output_type": "execute_result"
    },
    {
     "data": {
      "image/png": "[encoded data removed]",
      "text/plain": [
       "<Figure size 1440x720 with 2 Axes>"
      ]
     },
     "metadata": {
      "needs_background": "light"
     },
     "output_type": "display_data"
    }
   ],
   "source": [
    "print (color.BOLD + 'correlation matrix' + color.END)\n",
    "#creating correlation matrix for the principal components\n",
    "corrmat = np.corrcoef(df_train_pca.transpose())\n",
    "#plotting the correlation matrix\n",
    "%matplotlib inline\n",
    "plt.figure(figsize = (20,10))\n",
    "sns.heatmap(corrmat,annot = True)"
   ]
  },
  {
   "cell_type": "code",
   "execution_count": 79,
   "metadata": {},
   "outputs": [
    {
     "name": "stdout",
     "output_type": "stream",
     "text": [
      "max corr: 0.002581473910414423 , min corr:  -0.0026285339193842256\n"
     ]
    }
   ],
   "source": [
    "# 1s -> 0s in diagonals\n",
    "corrmat_nodiag = corrmat - np.diagflat(corrmat.diagonal())\n",
    "print(\"max corr:\",corrmat_nodiag.max(), \", min corr: \", corrmat_nodiag.min(),)\n",
    "# we see that correlations are indeed very close to 0"
   ]
  },
  {
   "cell_type": "code",
   "execution_count": 80,
   "metadata": {},
   "outputs": [
    {
     "name": "stdout",
     "output_type": "stream",
     "text": [
      "\u001b[1mWe effectively have removed multicollinearity from our situation, and our models will be much more stable\u001b[0m\n"
     ]
    }
   ],
   "source": [
    "print (color.BOLD + 'We effectively have removed multicollinearity from our situation, and our models will be much more stable' + color.END)\n"
   ]
  },
  {
   "cell_type": "code",
   "execution_count": 81,
   "metadata": {},
   "outputs": [
    {
     "name": "stdout",
     "output_type": "stream",
     "text": [
      "(8986, 18)\n",
      "\u001b[1mApplying Logistic Regression\u001b[0m\n"
     ]
    }
   ],
   "source": [
    "#Applying selected components to the test data - 10 components\n",
    "df_test_pca = pca_final.transform(X_test)\n",
    "print(df_test_pca.shape)\n",
    "print (color.BOLD + 'Applying Logistic Regression' + color.END)\n"
   ]
  },
  {
   "cell_type": "code",
   "execution_count": 82,
   "metadata": {},
   "outputs": [
    {
     "name": "stdout",
     "output_type": "stream",
     "text": [
      "[0 1]\n",
      "0.9240711594410264\n"
     ]
    }
   ],
   "source": [
    "from sklearn.linear_model import LogisticRegression\n",
    "from sklearn import metrics\n",
    "learner_pca=LogisticRegression()\n",
    "model_pca=learner_pca.fit(df_train_pca,y_train)\n",
    "\n",
    "# Predict on training set\n",
    "y_pred=learner_pca.predict(df_train_pca)\n",
    "\n",
    "# Is our model still predicting just one class?\n",
    "\n",
    "print( np.unique( y_pred ) )\n",
    "print(metrics.accuracy_score(y_train,y_pred))"
   ]
  },
  {
   "cell_type": "code",
   "execution_count": 83,
   "metadata": {},
   "outputs": [
    {
     "data": {
      "text/plain": [
       "'0.87'"
      ]
     },
     "execution_count": 83,
     "metadata": {},
     "output_type": "execute_result"
    }
   ],
   "source": [
    "#Making prediction on the test data\n",
    "pred_probs_test = model_pca.predict_proba(df_test_pca)[:,1]\n",
    "\"{:2.2}\".format(metrics.roc_auc_score(y_test, pred_probs_test))"
   ]
  },
  {
   "cell_type": "code",
   "execution_count": 84,
   "metadata": {},
   "outputs": [],
   "source": [
    "pca_again = PCA(0.95)"
   ]
  },
  {
   "cell_type": "code",
   "execution_count": 85,
   "metadata": {},
   "outputs": [
    {
     "data": {
      "text/plain": [
       "(20967, 17)"
      ]
     },
     "execution_count": 85,
     "metadata": {},
     "output_type": "execute_result"
    }
   ],
   "source": [
    "df_train_pca2 = pca_again.fit_transform(X_train)\n",
    "df_train_pca2.shape\n",
    "# we see that PCA selected 18 components"
   ]
  },
  {
   "cell_type": "code",
   "execution_count": 87,
   "metadata": {},
   "outputs": [
    {
     "name": "stdout",
     "output_type": "stream",
     "text": [
      "[0 1]\n",
      "0.9243096294176563\n"
     ]
    }
   ],
   "source": [
    "#training the regression model\n",
    "learner_pca2 = LogisticRegression()\n",
    "model_pca2 = learner_pca2.fit(df_train_pca2,y_train)\n",
    "# Predict on training set\n",
    "y_pred_1 = learner_pca2.predict(df_train_pca2)\n",
    " \n",
    "# Is our model still predicting just one class?\n",
    "print( np.unique( y_pred_1))\n",
    "# [0 1]\n",
    "print(metrics.accuracy_score(y_train,y_pred_1))\n"
   ]
  },
  {
   "cell_type": "code",
   "execution_count": 89,
   "metadata": {},
   "outputs": [
    {
     "data": {
      "text/plain": [
       "(8986, 17)"
      ]
     },
     "execution_count": 89,
     "metadata": {},
     "output_type": "execute_result"
    }
   ],
   "source": [
    "df_test_pca2 = pca_again.transform(X_test)\n",
    "df_test_pca2.shape"
   ]
  },
  {
   "cell_type": "code",
   "execution_count": 90,
   "metadata": {},
   "outputs": [
    {
     "data": {
      "text/plain": [
       "'0.87'"
      ]
     },
     "execution_count": 90,
     "metadata": {},
     "output_type": "execute_result"
    }
   ],
   "source": [
    "#Making prediction on the test data\n",
    "pred_probs_test2 = learner_pca2.predict_proba(df_test_pca2)[:,1]\n",
    "\"{:2.2f}\".format(metrics.roc_auc_score(y_test, pred_probs_test2))"
   ]
  },
  {
   "cell_type": "code",
   "execution_count": 93,
   "metadata": {},
   "outputs": [
    {
     "name": "stdout",
     "output_type": "stream",
     "text": [
      "\u001b[1mSo there it is a very similar result, without all the hassles. We have not only achieved dimensionality reduction, but also saved a lot of effort on feature selection.\u001b[0m\n",
      "________________________________________________________________________________ \n",
      "\n"
     ]
    }
   ],
   "source": [
    "print (color.BOLD + 'So there it is a very similar result, without all the hassles. We have not only achieved dimensionality reduction, but also saved a lot of effort on feature selection.'\n",
    " + color.END);print_ln();"
   ]
  },
  {
   "cell_type": "code",
   "execution_count": 94,
   "metadata": {},
   "outputs": [
    {
     "name": "stdout",
     "output_type": "stream",
     "text": [
      "\u001b[1mOBSERVATIONS\u001b[0m\n",
      "________________________________________________________________________________ \n",
      "\n",
      "\u001b[1m1. Data is highly imbalance. only 8.12% data is churn and remaing non churn.\u001b[0m\n",
      "\u001b[1m2. 87% accuracy with default PCA.\u001b[0m\n",
      "\u001b[1m3. 95% variance can be explained by 18 columns and maintain 87% accuracy.\u001b[0m\n",
      "\u001b[1m4. Key features are :- onnet_mou_6,onnet_mou_7,onnet_mou_8,offnet_mou_6,offnet_mou_7,offnet_mou_8,roam_ic_mou_6,roam_ic_mou_7,roam_ic_mou_8 etc.\u001b[0m\n"
     ]
    }
   ],
   "source": [
    "print (color.BOLD + 'OBSERVATIONS' + color.END);print_ln();\n",
    "print (color.BOLD + '1. Data is highly imbalance. only 8.12% data is churn and remaing non churn.' + color.END);\n",
    "print (color.BOLD + '2. 87% accuracy with default PCA.' + color.END);\n",
    "print (color.BOLD + '3. 95% variance can be explained by 18 columns and maintain 87% accuracy.' + color.END);\n",
    "print (color.BOLD + '4. Key features are :- onnet_mou_6,onnet_mou_7,onnet_mou_8,offnet_mou_6,offnet_mou_7,offnet_mou_8,roam_ic_mou_6,roam_ic_mou_7,roam_ic_mou_8 etc.' + color.END);\n",
    " # Though the setup is imbalanced, we could see that we are able to get both the states of the churn(0 and 1) with high accuracy (92%)- following Logistics regression.\"\n",
    "\n",
    "\n",
    "\n",
    "\n"
   ]
  },
  {
   "cell_type": "code",
   "execution_count": null,
   "metadata": {},
   "outputs": [],
   "source": []
  }
 ],
 "metadata": {
  "kernelspec": {
   "display_name": "Python 3",
   "language": "python",
   "name": "python3"
  },
  "language_info": {
   "codemirror_mode": {
    "name": "ipython",
    "version": 3
   },
   "file_extension": ".py",
   "mimetype": "text/x-python",
   "name": "python",
   "nbconvert_exporter": "python",
   "pygments_lexer": "ipython3",
   "version": "3.7.1"
  }
 },
 "nbformat": 4,
 "nbformat_minor": 2
}
